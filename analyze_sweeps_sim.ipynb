{
 "cells": [
  {
   "cell_type": "code",
   "execution_count": 1,
   "metadata": {},
   "outputs": [
    {
     "name": "stdout",
     "output_type": "stream",
     "text": [
      "clustered  decay  gaussian_scale_var  iid  t  thresh\n",
      "['clustered', 'iid', 'thresh', 't', 'gaussian_scale_var', 'decay']\n"
     ]
    }
   ],
   "source": [
    "import os\n",
    "from os.path import join as oj\n",
    "import sys, time\n",
    "sys.path.insert(1, oj(sys.path[0], '..'))  # insert parent path\n",
    "import seaborn as sns\n",
    "from sklearn.model_selection import train_test_split\n",
    "import numpy as np\n",
    "import matplotlib.pyplot as plt\n",
    "import pmlb\n",
    "from tqdm import tqdm\n",
    "from copy import deepcopy\n",
    "import pickle as pkl\n",
    "import pandas as pd\n",
    "import data\n",
    "REGRESSION_DSETS_LARGE_NAMES = data.REGRESSION_DSETS_LARGE_NAMES\n",
    "import numpy.linalg as npl\n",
    "from scipy.optimize import minimize\n",
    "from process_results import process_results, aggregate_results, best_ridge\n",
    "\n",
    "%matplotlib inline\n",
    "%load_ext autoreload\n",
    "%autoreload 2\n",
    "\n",
    "!ls /scratch/users/vision/yu_dl/raaz.rsk/mdl_sim_may/may14 # may14, may21\n",
    "parent_dir = '/scratch/users/vision/yu_dl/raaz.rsk/mdl_sim_may/may14/'\n",
    "save_dir = 'results'\n",
    "os.makedirs(save_dir, exist_ok=True)\n",
    "folders = os.listdir(parent_dir)\n",
    "print(folders)\n",
    "# folders = [f for f in folders if 'may11' in f]"
   ]
  },
  {
   "cell_type": "markdown",
   "metadata": {},
   "source": [
    "# basic loading"
   ]
  },
  {
   "cell_type": "code",
   "execution_count": null,
   "metadata": {},
   "outputs": [],
   "source": [
    "print(os.listdir(parent_dir))\n",
    "out_dir = oj(parent_dir, 'may11iid') # basic, pmlb_0, clustered, pmlb_1\n",
    "fnames = sorted([oj(out_dir, fname) for fname in os.listdir(out_dir)])\n",
    "results_list = [pd.Series(pkl.load(open(fname, \"rb\"))) for fname in tqdm(fnames) \n",
    "                if not 'processed' in fname]\n",
    "results = pd.concat(results_list, axis=1).T.infer_objects()"
   ]
  },
  {
   "cell_type": "code",
   "execution_count": null,
   "metadata": {},
   "outputs": [],
   "source": [
    "r = results\n",
    "r = r[r.model_type == 'mdl']\n",
    "rr = results[results.model_type == 'ridge']\n",
    "R, C = 1, 2\n",
    "plt.figure(dpi=200)\n",
    "\n",
    "plt.subplot(R, C, 1)\n",
    "plt.plot(1/r.n_train_over_num_features, r.test_mse, '.', label='mdl')\n",
    "plt.plot(1/rr.n_train_over_num_features, rr.test_mse, '.', label='ridge')\n",
    "plt.xscale('log')\n",
    "plt.xlabel('p/n')\n",
    "plt.ylabel('test mse')\n",
    "plt.yscale('log')\n",
    "\n",
    "plt.subplot(R, C, 2)\n",
    "plt.plot(1/r.n_train_over_num_features, r.train_mse, '.', label='mdl')\n",
    "plt.plot(1/rr.n_train_over_num_features, rr.train_mse, '.', label='ridge')\n",
    "plt.xscale('log')\n",
    "plt.xlabel('p/n')\n",
    "plt.yscale('log')\n",
    "plt.ylabel('train mse')\n",
    "plt.legend()\n",
    "plt.tight_layout()\n",
    "plt.show()"
   ]
  },
  {
   "cell_type": "markdown",
   "metadata": {},
   "source": [
    "# load results from a directory\n",
    "**note - this script aggregates results - needs to be done to average across trials to make double descent curves**"
   ]
  },
  {
   "cell_type": "code",
   "execution_count": null,
   "metadata": {},
   "outputs": [],
   "source": [
    "# !rm /scratch/users/vision/yu_dl/raaz.rsk/mdl_sim_may/*/*processed*\n",
    "!python process_results.py"
   ]
  },
  {
   "cell_type": "markdown",
   "metadata": {},
   "source": [
    "# double-descent plots"
   ]
  },
  {
   "cell_type": "code",
   "execution_count": null,
   "metadata": {},
   "outputs": [],
   "source": [
    "plot_all = False\n",
    "for folder in folders:\n",
    "    out_dir = oj(parent_dir, folder)\n",
    "    df = pd.read_pickle(oj(out_dir, 'processed.pkl'))\n",
    "        \n",
    "    if plot_all:\n",
    "        R, C = 2, 3\n",
    "    else:\n",
    "        R, C = 1, 2\n",
    "    SIZE = 5\n",
    "    plt.figure(figsize=(C * SIZE, R * SIZE))\n",
    "    plt.subplot(R, C, 1)\n",
    "    plt.axhline(df.mse_zero.values[0], lw=4, color='gray', alpha=0.4, label='trivial')\n",
    "    for name, curve in tqdm(df.iterrows()):\n",
    "    #     print(name, curve)\n",
    "        model_type = name[3]\n",
    "        reg_param = name[4]\n",
    "        l = str(model_type) + ' ' + str(reg_param)\n",
    "        if model_type == 'ols':\n",
    "            ls = '--'\n",
    "        elif model_type == 'ridge':\n",
    "            ls = ':'\n",
    "        elif model_type == 'linear_sta':\n",
    "            ls = '-.'\n",
    "        elif model_type == 'lasso':\n",
    "            ls = ':'\n",
    "        elif 'mdl' in model_type:\n",
    "            ls = '-'\n",
    "            \n",
    "        if not model_type == 'linear_sta':\n",
    "\n",
    "\n",
    "            kwargs = {'label': l, 'alpha': 0.5, 'lw': 2, 'linestyle': ls}\n",
    "\n",
    "            plt.subplot(R, C, 1)\n",
    "        #     plt.plot(curve.ratio, curve.mse_test, \n",
    "            plt.plot(curve.ratio, curve.mse_test, **kwargs) #np.square(curve.bias) + curve['var'], **kwargs)\n",
    "            plt.ylabel('test mse')\n",
    "            plt.xlabel('p / n')\n",
    "\n",
    "            plt.subplot(R, C, 2)\n",
    "            plt.plot(curve.ratio, curve.mse_train, **kwargs)\n",
    "            plt.ylabel('train mse')\n",
    "            plt.xlabel('p / n')\n",
    "\n",
    "\n",
    "            if plot_all:\n",
    "                row_best_ridge = best_ridge(df) # contains df1, df2, df3\n",
    "                len_ridge = row_best_ridge.df1.size                \n",
    "                \n",
    "                plt.subplot(R, C, 4)\n",
    "                plt.plot(row_best_ridge.df1, curve.mse_noiseless[:len_ridge], **kwargs)\n",
    "                plt.ylabel('test mse')\n",
    "                plt.xlabel('df1: $tr(S S^T)$')\n",
    "\n",
    "                plt.subplot(R, C, 5)\n",
    "                plt.plot(row_best_ridge.df2, curve.mse_noiseless[:len_ridge], **kwargs)\n",
    "                plt.ylabel('test mse')\n",
    "                plt.xlabel('df2: $tr(2 * S - S^T S)$')\n",
    "\n",
    "                plt.subplot(R, C, 6)\n",
    "                plt.plot(row_best_ridge.df3, curve.mse_noiseless[:len_ridge], **kwargs)\n",
    "                plt.ylabel('test mse')\n",
    "                plt.xlabel('df3: $tr(S)$')\n",
    "\n",
    "\n",
    "            '''\n",
    "            plt.subplot(R, C, 3)\n",
    "            plt.plot(curve.ratio, np.square(curve.bias), **kwargs)\n",
    "            plt.ylabel('bias')\n",
    "\n",
    "            plt.subplot(R, C, 4)\n",
    "            plt.plot(curve.ratio, curve['var'], **kwargs)\n",
    "            plt.ylabel('var')\n",
    "            '''\n",
    "\n",
    "            '''\n",
    "            # wnorm also recorded\n",
    "            plt.subplot(R, C, 3)\n",
    "            plt.plot(curve.ratio, curve['wnorm'], **kwargs)\n",
    "            plt.ylabel('wnorm')\n",
    "            plt.xlabel('p / n')\n",
    "\n",
    "            plt.subplot(R, C, 4)\n",
    "            plt.plot(curve.ratio, curve['num_nonzero'], **kwargs)\n",
    "            plt.ylabel('num_nonzero')\n",
    "            plt.xlabel('p / n')\n",
    "            '''\n",
    "\n",
    "    for i in range(1, R * C + 1):\n",
    "        plt.subplot(R, C, i)\n",
    "        plt.xscale('log')\n",
    "        plt.yscale('log')\n",
    "\n",
    "    #     s = f'{model_type}_{dset}_{dset_name}+p={num_features}+lambda={reg_param}+noise_mult={noise_mult}'\n",
    "    plt.subplot(R, C, 1)\n",
    "    plt.legend()\n",
    "    \n",
    "    if plot_all:\n",
    "        plt.subplot(R, C, 3)\n",
    "        ratios = row_best_ridge.ratio\n",
    "        n = 500 / ratios\n",
    "        p = 0 * ratios + 500\n",
    "        plt.plot(ratios, np.minimum(n, p), label='min(n, p)', alpha=0.5)\n",
    "        plt.plot(ratios, row_best_ridge.df1, label='df1')\n",
    "        plt.plot(ratios, row_best_ridge.df2, label='df2')\n",
    "        plt.plot(ratios, row_best_ridge.df3, label='df3')\n",
    "        plt.xlabel('p / n')\n",
    "        plt.legend()\n",
    "    \n",
    "    \n",
    "    s = folder\n",
    "    plt.suptitle(s)\n",
    "    plt.tight_layout()\n",
    "    # plt.show()\n",
    "    plt.savefig(oj(save_dir, s + '.pdf'))\n",
    "    plt.show()\n",
    "    plt.close()"
   ]
  },
  {
   "cell_type": "markdown",
   "metadata": {},
   "source": [
    "# figures"
   ]
  },
  {
   "cell_type": "code",
   "execution_count": 5,
   "metadata": {},
   "outputs": [],
   "source": [
    "import matplotlib.pyplot as plt\n",
    "\n",
    "SMALL_SIZE = 12\n",
    "MEDIUM_SIZE = 12\n",
    "BIGGER_SIZE = 12\n",
    "\n",
    "plt.rc('font', size=SMALL_SIZE)          # controls default text sizes\n",
    "plt.rc('axes', titlesize=SMALL_SIZE)     # fontsize of the axes title\n",
    "plt.rc('axes', labelsize=MEDIUM_SIZE)    # fontsize of the x and y labels\n",
    "plt.rc('xtick', labelsize=SMALL_SIZE)    # fontsize of the tick labels\n",
    "plt.rc('ytick', labelsize=SMALL_SIZE)    # fontsize of the tick labels\n",
    "plt.rc('legend', fontsize=SMALL_SIZE)    # legend fontsize\n",
    "plt.rc('figure', titlesize=BIGGER_SIZE)  # fontsize of the figure title\n",
    "\n",
    "ls = '-'\n",
    "LABS = {\n",
    "    'mdl_m10.0': 'MDL-COMP',\n",
    "    'ridge-1.0': 'Ridge-CV',\n",
    "    'mdl_orig0.0': 'MDL-COMP-ORIG',\n",
    "    'ols0.0': 'OLS'\n",
    "}"
   ]
  },
  {
   "cell_type": "markdown",
   "metadata": {},
   "source": [
    "**fig iid gaussian setting**"
   ]
  },
  {
   "cell_type": "code",
   "execution_count": 43,
   "metadata": {},
   "outputs": [
    {
     "name": "stderr",
     "output_type": "stream",
     "text": [
      "/accounts/projects/vision/.local/lib/python3.7/site-packages/ipykernel_launcher.py:44: MatplotlibDeprecationWarning: Adding an axes using the same arguments as a previous axes currently reuses the earlier instance.  In a future version, a new instance will always be created and returned.  Meanwhile, this warning can be suppressed, and the future behavior ensured, by passing a unique label to each axes instance.\n"
     ]
    },
    {
     "data": {
      "image/png": "[encoded data removed]",
      "text/plain": [
       "<Figure size 648x180 with 2 Axes>"
      ]
     },
     "metadata": {
      "needs_background": "light"
     },
     "output_type": "display_data"
    }
   ],
   "source": [
    "plot_all = False\n",
    "folder = 'iid'\n",
    "out_dir = oj(parent_dir, folder)\n",
    "df = pd.read_pickle(oj(out_dir, 'processed.pkl')).reset_index()\n",
    "df = df[df.model_type != 'mdl_orig'].reset_index()\n",
    "df = df.iloc[df.model_type.str.slice(1).sort_values().index] # re-order so mdl comes first\n",
    "\n",
    "R, C = 1, 3\n",
    "plt.figure(figsize=(9, 2.5))\n",
    "\n",
    "plt.subplot(R, C, 1)\n",
    "# plt.axhline(df.mse_zero.values[0], lw=4, color='gray', alpha=0.4, label='trivial')\n",
    "plt.title('A', fontweight='bold', loc='left')\n",
    "#         plt.plot(curve.loss_val, curve.mse_test, **kwargs) #np.square(curve.bias) + curve['var'], **kwargs)\n",
    "plt.ylabel('MDL-COMP')\n",
    "plt.xlabel('p / n') #\\n(Number of features / Number of training points)')\n",
    "r = pkl.load(open('iid_comp.pkl', 'rb'))\n",
    "plt.plot(1/r['n_train_over_num_features_list'],\n",
    "         r['loss_val']) # / r['n_train_over_num_features_list'] / r['num_features'])\n",
    "'''\n",
    "def norm(x):\n",
    "    return x \n",
    "plt.plot(1/n_train_over_num_features_list, norm(r['loss_val']), label='loss')\n",
    "plt.plot(1/n_train_over_num_features_list, norm(r['mse_norm']), label='mse_norm')\n",
    "plt.plot(1/n_train_over_num_features_list, norm(r['theta_norm']), label='theta_norm')\n",
    "plt.plot(1/n_train_over_num_features_list, norm(r['eigensum']), label='eigensum')\n",
    "plt.plot(1/n_train_over_num_features_list, norm(r['mse_test']), label='mse_test')\n",
    "'''\n",
    "plt.xscale('log')\n",
    "plt.yscale('log')\n",
    "\n",
    "\n",
    "\n",
    "\n",
    "for i in range(df.shape[0]):\n",
    "    curve = df.iloc[i]\n",
    "    \n",
    "    if curve.model_type == 'ridge' and curve.reg_param != -1:\n",
    "        continue\n",
    "    kwargs = {'label': LABS[curve.model_type + str(curve.reg_param)],\n",
    "              'alpha': 0.5, 'lw': 2, 'linestyle': ls}\n",
    "    \n",
    "    plt.subplot(R, C, 2)\n",
    "    plt.title('B', fontweight='bold', loc='left')\n",
    "    plt.plot(curve.ratio, curve.mse_test, **kwargs) #np.square(curve.bias) + curve['var'], **kwargs)\n",
    "    plt.ylabel('Test MSE')\n",
    "    plt.xlabel('p / n') #\\n(Number of features / Number of training points)')\n",
    "    plt.xscale('log')\n",
    "    plt.yscale('log')\n",
    "\n",
    "    '''\n",
    "    plt.subplot(R, C, 3)\n",
    "    plt.title('C', fontweight='bold', loc='left')\n",
    "    plt.plot(curve.ratio, curve.mse_train, **kwargs)\n",
    "    plt.ylabel('Mean-squared error\\n(training)')\n",
    "    plt.xlabel('p / n')\n",
    "    plt.xscale('log')\n",
    "    plt.yscale('log')\n",
    "    '''\n",
    "    #     s = f'{model_type}_{dset}_{dset_name}+p={num_features}+lambda={reg_param}+noise_mult={noise_mult}'\n",
    "plt.tight_layout()\n",
    "plt.legend(bbox_to_anchor=(1.04 ,1), frameon=False)\n",
    "\n",
    "plt.savefig(oj(save_dir, 'fig_iid.pdf'))\n",
    "plt.show()"
   ]
  },
  {
   "cell_type": "markdown",
   "metadata": {},
   "source": [
    "**fig shifts**"
   ]
  },
  {
   "cell_type": "code",
   "execution_count": 6,
   "metadata": {},
   "outputs": [
    {
     "data": {
      "image/png": "[encoded data removed]",
      "text/plain": [
       "<Figure size 864x216 with 3 Axes>"
      ]
     },
     "metadata": {
      "needs_background": "light"
     },
     "output_type": "display_data"
    }
   ],
   "source": [
    "plot_all = False\n",
    "R, C = 1, 3\n",
    "lets = ['A', 'B', 'C', 'D', 'E']\n",
    "titles = {\n",
    "    't': 'T-Distribution',\n",
    "    'thresh': 'Thresholds',\n",
    "    'decay': 'Decaying eigenvalues'\n",
    "}\n",
    "plt.figure(figsize=(12, 3))\n",
    "for j, folder in enumerate(['t', 'decay', 'thresh']): #, 'clustered', 'gaussian_scale_var']):\n",
    "    plt.subplot(R, C, j + 1)\n",
    "    plt.title(lets[j], fontweight='bold', loc='left')    \n",
    "    out_dir = oj(parent_dir, folder)\n",
    "    df = pd.read_pickle(oj(out_dir, 'processed.pkl')).reset_index()\n",
    "    df = df[df.model_type != 'mdl_orig'].reset_index()\n",
    "    df = df.iloc[df.model_type.str.slice(1).sort_values().index] # re-order so mdl comes first\n",
    "    \n",
    "#     plt.axhline(df.mse_zero.values[0], lw=4, color='gray', alpha=0.4, label='trivial')\n",
    "    for i in range(df.shape[0]):\n",
    "        curve = df.iloc[i]\n",
    "    \n",
    "        if curve.model_type == 'ridge' and curve.reg_param != -1:\n",
    "            continue\n",
    "        l = LABS[str(curve.model_type) + str(curve.reg_param)]\n",
    "            \n",
    "\n",
    "        kwargs = {'label': l, 'alpha': 0.5, 'lw': 2, 'linestyle': ls}\n",
    "\n",
    "    #     plt.plot(curve.ratio, curve.mse_test, \n",
    "        plt.plot(curve.ratio, curve.mse_test, **kwargs) #np.square(curve.bias) + curve['var'], **kwargs)\n",
    "    if j == 0:\n",
    "        plt.ylabel('Test MSE')\n",
    "    plt.xlabel('p / n') #\\n(Number of features / Number of training points)')\n",
    "    plt.xscale('log')\n",
    "    plt.yscale('log')\n",
    "\n",
    "#     s = f'{model_type}_{dset}_{dset_name}+p={num_features}+lambda={reg_param}+noise_mult={noise_mult}'\n",
    "    if j == C - 1:\n",
    "        plt.legend(frameon=False)\n",
    "    \n",
    "    plt.title(titles[folder])\n",
    "plt.tight_layout()\n",
    "plt.savefig(oj(save_dir, 'fig_shifts.pdf'))\n",
    "plt.show()"
   ]
  },
  {
   "cell_type": "code",
   "execution_count": null,
   "metadata": {},
   "outputs": [],
   "source": []
  }
 ],
 "metadata": {
  "anaconda-cloud": {},
  "kernelspec": {
   "display_name": "Python 3",
   "language": "python",
   "name": "python3"
  },
  "language_info": {
   "codemirror_mode": {
    "name": "ipython",
    "version": 3
   },
   "file_extension": ".py",
   "mimetype": "text/x-python",
   "name": "python",
   "nbconvert_exporter": "python",
   "pygments_lexer": "ipython3",
   "version": "3.7.5"
  }
 },
 "nbformat": 4,
 "nbformat_minor": 4
}
