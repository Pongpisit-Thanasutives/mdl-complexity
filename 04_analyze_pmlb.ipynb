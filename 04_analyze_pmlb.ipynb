{
 "cells": [
  {
   "cell_type": "code",
   "execution_count": null,
   "metadata": {},
   "outputs": [],
   "source": [
    "import os\n",
    "from os.path import join as oj\n",
    "import sys, time\n",
    "sys.path.insert(1, oj(sys.path[0], '..'))  # insert parent path\n",
    "import seaborn as sns\n",
    "from sklearn.model_selection import train_test_split\n",
    "import numpy as np\n",
    "import matplotlib.pyplot as plt\n",
    "import pmlb\n",
    "from tqdm import tqdm\n",
    "from copy import deepcopy\n",
    "import pickle as pkl\n",
    "import pandas as pd\n",
    "import data\n",
    "import numpy.linalg as npl\n",
    "from scipy.optimize import minimize\n",
    "\n",
    "%matplotlib inline\n",
    "%load_ext autoreload\n",
    "%autoreload 2\n",
    "\n",
    "# !ls /scratch/users/vision/yu_dl/raaz.rsk/mdl_sim_may/may28_1 # may14, may21\n",
    "parent_dir = '/scratch/users/vision/yu_dl/raaz.rsk/mdl_sim_may/jun1/'\n",
    "save_dir = 'results'\n",
    "os.makedirs(save_dir, exist_ok=True)\n",
    "folders = os.listdir(parent_dir)\n",
    "print(folders)\n",
    "# folders = [f for f in folders if 'may11' in f]"
   ]
  },
  {
   "cell_type": "markdown",
   "metadata": {},
   "source": [
    "# load results from a directory\n",
    "**note - this script aggregates results - needs to be done to average across trials to make double descent curves**"
   ]
  },
  {
   "cell_type": "code",
   "execution_count": 3,
   "metadata": {},
   "outputs": [
    {
     "name": "stdout",
     "output_type": "stream",
     "text": [
      "100%|███████████████████████████████████████████| 28/28 [00:00<00:00, 55.60it/s]\n"
     ]
    }
   ],
   "source": [
    "# !rm /scratch/users/vision/yu_dl/raaz.rsk/mdl_sim_may/may28_1/*/*processed*\n",
    "!python postprocess.py"
   ]
  },
  {
   "cell_type": "markdown",
   "metadata": {},
   "source": [
    "# figures"
   ]
  },
  {
   "cell_type": "code",
   "execution_count": 4,
   "metadata": {},
   "outputs": [],
   "source": [
    "import matplotlib.pyplot as plt\n",
    "\n",
    "SMALL_SIZE = 12\n",
    "MEDIUM_SIZE = 12\n",
    "BIGGER_SIZE = 12\n",
    "\n",
    "plt.rc('font', size=SMALL_SIZE)          # controls default text sizes\n",
    "plt.rc('axes', titlesize=SMALL_SIZE)     # fontsize of the axes title\n",
    "plt.rc('axes', labelsize=MEDIUM_SIZE)    # fontsize of the x and y labels\n",
    "plt.rc('xtick', labelsize=SMALL_SIZE)    # fontsize of the tick labels\n",
    "plt.rc('ytick', labelsize=SMALL_SIZE)    # fontsize of the tick labels\n",
    "plt.rc('legend', fontsize=SMALL_SIZE)    # legend fontsize\n",
    "plt.rc('figure', titlesize=BIGGER_SIZE)  # fontsize of the figure title\n",
    "\n",
    "LABS = {\n",
    "    'mdl_m10.0': 'MDL-COMP',\n",
    "    'mdl_m1-1.0': 'MDL-COMP',\n",
    "    'ridge-1.0': 'Ridge-CV',\n",
    "    'ridge-5.0': 'Ridge-CV',    \n",
    "    'mdl_orig0.0': 'MDL-COMP-ORIG',\n",
    "    'ols0.0': 'OLS'\n",
    "}"
   ]
  },
  {
   "cell_type": "markdown",
   "metadata": {},
   "source": [
    "**pmlb fig**"
   ]
  },
  {
   "cell_type": "code",
   "execution_count": null,
   "metadata": {},
   "outputs": [],
   "source": [
    "dfs_list = []\n",
    "dsets = []\n",
    "plot_all = False\n",
    "R, C = 4, 7\n",
    "# lets = ['A', 'B', 'C', 'D', 'E']\n",
    "titles = {\n",
    "    't': 'T-Distribution',\n",
    "    'thresh': 'Thresholds',\n",
    "    'decay': 'Decaying eigenvalues'\n",
    "}\n",
    "fig = plt.figure(figsize=(20, 8.5))\n",
    "j = 0\n",
    "for folder in folders: #, 'clustered', 'gaussian_scale_var']):\n",
    "#     plt.title(lets[j], fontweight='bold', loc='left')    \n",
    "    out_dir = oj(parent_dir, folder)\n",
    "    df = pd.read_pickle(oj(out_dir, 'processed.pkl')).reset_index()\n",
    "    dfs_list.append(df)\n",
    "    dset_name = df['dset_name'].values[0]\n",
    "    if dset_name not in data.REGRESSION_DSETS_LARGE_NAMES_RECOGNIZABLE:\n",
    "        continue\n",
    "    plt.subplot(R, C, j + 1)\n",
    "#     plt.axhline(df.mse_zero.values[0], lw=4, color='gray', alpha=0.4, label='trivial')\n",
    "    for i in range(df.shape[0]):\n",
    "        curve = df.iloc[i]\n",
    "    \n",
    "        if curve.model_type == 'ridge' and curve.reg_param != -1:\n",
    "            continue\n",
    "        if curve.model_type == 'ols':\n",
    "            continue\n",
    "        l = str(curve.model_type) + str(curve.reg_param)\n",
    "            \n",
    "\n",
    "        if 'mdl' in curve.model_type:\n",
    "            ls = '-'\n",
    "        else:\n",
    "            ls = ':'\n",
    "        \n",
    "        kwargs = {'label': LABS[l], 'alpha': 1, 'lw': 2, 'linestyle': ls}\n",
    "\n",
    "    #     plt.plot(curve.ratio, curve.mse_test, \n",
    "        plt.plot(curve.ratio, curve.mse_test, **kwargs) #np.square(curve.bias) + curve['var'], **kwargs)\n",
    "    if j == 0:\n",
    "        plt.ylabel('Mean-squared error\\n(test set)')\n",
    "    plt.xlabel('d / n') #\\n(Number of features / Number of training points)')\n",
    "    plt.xscale('log')\n",
    "    plt.yscale('log')\n",
    "\n",
    "#     s = f'{model_type}_{dset}_{dset_name}+p={num_features}+lambda={reg_param}+noise_mult={noise_mult}'\n",
    "    if j == C - 1:\n",
    "        plt.legend()\n",
    "    \n",
    "    plt.title(dset_name, fontsize=13)\n",
    "    plt.axis('off')\n",
    "    j += 1\n",
    "\n",
    "ax = plt.subplot(R, C, C * 2 + 1)    \n",
    "plt.axis('on')\n",
    "ax.set_yticks([])\n",
    "plt.yscale('linear')\n",
    "plt.ylabel('Test MSE (log-scale)', fontsize=20) #, labelpad=20) #, va='top')\n",
    "ax.yaxis.set_label_coords(-0.1, 1.03)\n",
    "ax.spines['top'].set_visible(False)\n",
    "ax.spines['right'].set_visible(False)\n",
    "ax.spines['bottom'].set_visible(False)\n",
    "ax.spines['left'].set_visible(False)\n",
    "ax.get_xaxis().set_visible(False)\n",
    "plt.tick_params(top='off', bottom='off', left='off', right='off', labelleft='off', labelbottom='on')\n",
    "ax.set_yticks([])\n",
    "\n",
    "\n",
    "\n",
    "ax = plt.subplot(R, C, R * (C - 1) + C//2 - 2)\n",
    "plt.xlabel('$d/n$ (log-scale)', fontsize=20)\n",
    "plt.axis('on')\n",
    "plt.xticks([])\n",
    "ax.spines['top'].set_visible(False)\n",
    "ax.spines['right'].set_visible(False)\n",
    "# ax.spines['bottom'].set_visible(False)\n",
    "ax.spines['left'].set_visible(False)\n",
    "ax.get_yaxis().set_visible(False)\n",
    "# plt.text(0, 1, 'Test MSE')\n",
    "\n",
    "plt.tight_layout()\n",
    "plt.subplots_adjust(hspace=0.1, wspace=0.1)\n",
    "plt.savefig(oj(save_dir, 'fig_pmlb_curves.pdf'))\n",
    "# plt.show()\n"
   ]
  },
  {
   "cell_type": "code",
   "execution_count": 16,
   "metadata": {},
   "outputs": [
    {
     "name": "stdout",
     "output_type": "stream",
     "text": [
      "num satisfactory dsets 19\n"
     ]
    },
    {
     "name": "stderr",
     "output_type": "stream",
     "text": [
      "/accounts/projects/vision/.local/lib/python3.7/site-packages/ipykernel_launcher.py:12: SettingWithCopyWarning: \n",
      "A value is trying to be set on a copy of a slice from a DataFrame.\n",
      "Try using .loc[row_indexer,col_indexer] = value instead\n",
      "\n",
      "See the caveats in the documentation: http://pandas.pydata.org/pandas-docs/stable/indexing.html#indexing-view-versus-copy\n",
      "  if sys.path[0] == '':\n"
     ]
    },
    {
     "data": {
      "image/png": "[encoded data removed]",
      "text/plain": [
       "<Figure size 648x216 with 3 Axes>"
      ]
     },
     "metadata": {
      "needs_background": "light"
     },
     "output_type": "display_data"
    }
   ],
   "source": [
    "df_all_full = pd.concat(dfs_list)\n",
    "df_all = df_all_full[df_all_full['num_features'] >= 6] # remove this to see the really small datasets\n",
    "print('num satisfactory dsets', int(df_all.shape[0]/3))\n",
    "ratios = [2, 1, 1/2]\n",
    "for ratio in ratios:\n",
    "    def get_mse(row):\n",
    "    #     print(row['ratio'], row['mse_test'])\n",
    "        idxs = np.where(row['ratio']==ratio)[0]\n",
    "        if len(idxs) == 0:\n",
    "            return np.nan\n",
    "        return row['mse_test'][idxs[0]]\n",
    "    df_all[f'mse_{ratio:.2f}'] = df_all.apply(get_mse, axis=1)\n",
    "\n",
    "\n",
    "R, C = 1, 3\n",
    "titles = ['2', '1', '1/2']\n",
    "plt.figure(figsize=(9, 3))\n",
    "lets = ['A', 'B', 'C']\n",
    "for c in range(3):\n",
    "    k = f'mse_{ratios[c]:.2f}'\n",
    "    ax = plt.subplot(R, C, c + 1)\n",
    "    plt.title(lets[c], loc='left', fontweight='bold')\n",
    "    plt.plot(df_all[df_all['model_type']=='ridge'][k],\n",
    "             df_all[df_all['model_type']=='mdl_m1'][k], '.')\n",
    "    plt.xlabel('Test MSE Ridge-CV')\n",
    "    plt.title('$d/n$ = ' + titles[c])\n",
    "    if c == 0:\n",
    "        plt.ylabel('Test MSE MDL-COMP')\n",
    "    plt.plot([0.25, 2.5], [0.25, 2.5], color='gray', alpha=0.5)\n",
    "    ax.spines['right'].set_visible(False)\n",
    "    ax.spines['top'].set_visible(False)\n",
    "\n",
    "    plt.grid()\n",
    "plt.tight_layout()\n",
    "plt.savefig(oj(save_dir, 'fig_pmlb.pdf'))\n",
    "plt.show()"
   ]
  },
  {
   "cell_type": "markdown",
   "metadata": {},
   "source": [
    "# dataset statistics"
   ]
  },
  {
   "cell_type": "markdown",
   "metadata": {},
   "source": [
    "**omit small dsets**"
   ]
  },
  {
   "cell_type": "code",
   "execution_count": null,
   "metadata": {},
   "outputs": [],
   "source": [
    "lens = []\n",
    "for name in tqdm(df_all.dset_name.unique()):\n",
    "    lens.append(pmlb.fetch_data(name).shape[0])\n",
    "lens"
   ]
  },
  {
   "cell_type": "code",
   "execution_count": 18,
   "metadata": {},
   "outputs": [
    {
     "data": {
      "text/plain": [
       "array(['218_house_8L', '294_satellite_image', '1199_BNG_echoMonths',\n",
       "       '1028_SWD', '230_machine_cpu', '1191_BNG_pbc', '201_pol',\n",
       "       '1201_BNG_breastTumor', '1196_BNG_pharynx',\n",
       "       '4544_GeographicalOriginalofMusic', '527_analcatdata_election2000',\n",
       "       '344_mv', '537_houses', '225_puma8NH', '1193_BNG_lowbwt',\n",
       "       '522_pm10', '229_pwLinear', '542_pollution', '215_2dplanes'],\n",
       "      dtype=object)"
      ]
     },
     "execution_count": 18,
     "metadata": {},
     "output_type": "execute_result"
    }
   ],
   "source": [
    "df_all.dset_name.unique()"
   ]
  }
 ],
 "metadata": {
  "anaconda-cloud": {},
  "kernelspec": {
   "display_name": "Python 3",
   "language": "python",
   "name": "python3"
  },
  "language_info": {
   "codemirror_mode": {
    "name": "ipython",
    "version": 3
   },
   "file_extension": ".py",
   "mimetype": "text/x-python",
   "name": "python",
   "nbconvert_exporter": "python",
   "pygments_lexer": "ipython3",
   "version": "3.7.5"
  }
 },
 "nbformat": 4,
 "nbformat_minor": 4
}
