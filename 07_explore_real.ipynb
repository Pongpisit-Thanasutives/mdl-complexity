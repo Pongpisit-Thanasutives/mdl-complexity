{
 "cells": [
  {
   "cell_type": "code",
   "execution_count": 3,
   "metadata": {},
   "outputs": [
    {
     "name": "stdout",
     "output_type": "stream",
     "text": [
      "The autoreload extension is already loaded. To reload it, use:\n",
      "  %reload_ext autoreload\n"
     ]
    }
   ],
   "source": [
    "import os\n",
    "from os.path import join as oj\n",
    "import sys, time\n",
    "sys.path.insert(1, oj(sys.path[0], '..'))  # insert parent path\n",
    "import seaborn as sns\n",
    "from sklearn.model_selection import train_test_split\n",
    "import numpy as np\n",
    "import matplotlib.pyplot as plt\n",
    "import pmlb\n",
    "from tqdm import tqdm\n",
    "from copy import deepcopy\n",
    "import pickle as pkl\n",
    "import pandas as pd\n",
    "import data\n",
    "import numpy.linalg as npl\n",
    "from scipy.optimize import minimize\n",
    "import pmlb\n",
    "%matplotlib inline\n",
    "%load_ext autoreload\n",
    "%autoreload 2\n",
    "\n",
    "save_dir = 'results'\n",
    "os.makedirs(save_dir, exist_ok=True)"
   ]
  },
  {
   "cell_type": "code",
   "execution_count": 17,
   "metadata": {},
   "outputs": [],
   "source": [
    "dset = 'mnist'\n",
    "X, _ = pmlb.fetch_data(dset, return_X_y=True)"
   ]
  },
  {
   "cell_type": "markdown",
   "metadata": {},
   "source": [
    "# vary p/n\n",
    "**looks at how MDL-COMP varies as d/n varies.**"
   ]
  },
  {
   "cell_type": "code",
   "execution_count": null,
   "metadata": {},
   "outputs": [],
   "source": [
    "def add_results(X_train, X_test, r, i, noise_std=0.1, beta_norm=1):\n",
    "    np.random.seed(13)\n",
    "    n = X_train.shape[0]\n",
    "    d = X_train.shape[1]    \n",
    "    beta = np.random.randn(d)\n",
    "    beta = beta / np.linalg.norm(beta) * beta_norm\n",
    "    \n",
    "    y_train = X_train @ beta + noise_std * np.random.randn(n)\n",
    "    y_test = X_test @ beta + noise_std * np.random.randn(X_test.shape[0])\n",
    "\n",
    "    u, a, vh = np.linalg.svd(X_train.T @ X_train, full_matrices=True)\n",
    "    w = vh @ beta\n",
    "    c = (1 / (2 * X_train.shape[0]))\n",
    "    logsum = 0\n",
    "    for i in range(min(n, d)):\n",
    "        logsum += np.log(1 + a[i] * w[i]**2 / noise_std**2)\n",
    "    return c * logsum\n",
    "\n",
    "\n",
    "\n",
    "X_train_full, X_test = train_test_split(X, test_size=10000) # shuffles\n",
    "n_train_over_num_features_list = np.array([1e-2, 5e-2, 1e-1, 0.5, 0.75, 0.9, 1,\n",
    "                                  1.2, 1.5, 2, 5, 7.5, 1e1, 2e1, 4e1, 1e2])\n",
    "n = n_train_over_num_features_list.size\n",
    "mdl_comps = []\n",
    "for i, n_train_over_num_features in tqdm(enumerate(n_train_over_num_features_list)):\n",
    "    n_train_over_num_features = n_train_over_num_features\n",
    "    num_features = X.shape[1]\n",
    "    n_train = int(n_train_over_num_features * num_features)\n",
    "    X_train = X_train_full[:n_train]\n",
    "    mdl_comps.append(add_results(X_train, X_test, r, i))"
   ]
  },
  {
   "cell_type": "code",
   "execution_count": 30,
   "metadata": {},
   "outputs": [],
   "source": [
    "r = {'mdl_comps': mdl_comps, 'n_train_over_num_features': n_train_over_num_features_list}\n",
    "# pkl.dump(r, open(f'{dset}_mdl_comps.pkl', 'wb'))"
   ]
  },
  {
   "cell_type": "markdown",
   "metadata": {},
   "source": [
    "**fig complexity vs d/n**"
   ]
  },
  {
   "cell_type": "code",
   "execution_count": 32,
   "metadata": {},
   "outputs": [
    {
     "name": "stderr",
     "output_type": "stream",
     "text": [
      "/accounts/projects/vision/.local/lib/python3.7/site-packages/ipykernel_launcher.py:9: MatplotlibDeprecationWarning: Adding an axes using the same arguments as a previous axes currently reuses the earlier instance.  In a future version, a new instance will always be created and returned.  Meanwhile, this warning can be suppressed, and the future behavior ensured, by passing a unique label to each axes instance.\n",
      "  if __name__ == '__main__':\n"
     ]
    },
    {
     "data": {
      "image/png": "[encoded data removed]",
      "text/plain": [
       "<Figure size 288x216 with 1 Axes>"
      ]
     },
     "metadata": {
      "needs_background": "light"
     },
     "output_type": "display_data"
    }
   ],
   "source": [
    "r = pkl.load(open(f'{dset}_mdl_comps.pkl', 'rb'))\n",
    "plt.figure(figsize=(4, 3))\n",
    "# plt.axhline(df.mse_zero.values[0], lw=4, color='gray', alpha=0.4, label='trivial')\n",
    "# plt.title('A', fontweight='bold', loc='left')\n",
    "#         plt.plot(curve.loss_val, curve.mse_test, **kwargs) #np.square(curve.bias) + curve['var'], **kwargs)\n",
    "plt.ylabel('MDL-COMP')\n",
    "plt.xlabel('$d / n$') #\\n(Number of features / Number of training points)')\n",
    "plt.plot(1/np.array(r['n_train_over_num_features']), mdl_comps)\n",
    "ax = plt.subplot(111)\n",
    "ax.spines['right'].set_visible(False)\n",
    "ax.spines['top'].set_visible(False)\n",
    "plt.xscale('log')\n",
    "plt.yscale('log')\n",
    "plt.grid()\n",
    "plt.tight_layout()\n",
    "# plt.savefig(oj(save_dir, 'fig_iid_comp.pdf'))"
   ]
  }
 ],
 "metadata": {
  "anaconda-cloud": {},
  "kernelspec": {
   "display_name": "Python 3",
   "language": "python",
   "name": "python3"
  },
  "language_info": {
   "codemirror_mode": {
    "name": "ipython",
    "version": 3
   },
   "file_extension": ".py",
   "mimetype": "text/x-python",
   "name": "python",
   "nbconvert_exporter": "python",
   "pygments_lexer": "ipython3",
   "version": "3.7.5"
  }
 },
 "nbformat": 4,
 "nbformat_minor": 4
}
