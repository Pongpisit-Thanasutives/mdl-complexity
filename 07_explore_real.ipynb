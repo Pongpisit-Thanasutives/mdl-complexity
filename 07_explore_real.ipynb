{
 "cells": [
  {
   "cell_type": "code",
   "execution_count": 7,
   "metadata": {},
   "outputs": [
    {
     "name": "stdout",
     "output_type": "stream",
     "text": [
      "The autoreload extension is already loaded. To reload it, use:\n",
      "  %reload_ext autoreload\n"
     ]
    }
   ],
   "source": [
    "import os\n",
    "from os.path import join as oj\n",
    "import sys, time\n",
    "sys.path.insert(1, oj(sys.path[0], '..'))  # insert parent path\n",
    "import seaborn as sns\n",
    "from sklearn.model_selection import train_test_split\n",
    "import numpy as np\n",
    "import matplotlib.pyplot as plt\n",
    "import pmlb\n",
    "from tqdm import tqdm\n",
    "from copy import deepcopy\n",
    "import pickle as pkl\n",
    "import pandas as pd\n",
    "import data\n",
    "import numpy.linalg as npl\n",
    "from scipy.optimize import minimize\n",
    "import pmlb\n",
    "from scipy.io import loadmat\n",
    "import h5py\n",
    "%matplotlib inline\n",
    "%load_ext autoreload\n",
    "%autoreload 2\n",
    "\n",
    "save_dir = 'results'\n",
    "os.makedirs(save_dir, exist_ok=True)"
   ]
  },
  {
   "cell_type": "code",
   "execution_count": 8,
   "metadata": {},
   "outputs": [],
   "source": [
    "def load_h5(fname):\n",
    "    f = h5py.File(fname, 'r')\n",
    "    data = np.array(f['data'])\n",
    "    f.close()\n",
    "    return data\n",
    "\n",
    "out_dir = '/scratch/users/vision/data/gallant/vim_2_crcns'\n",
    "\n",
    "# for fmri data\n",
    "X = np.array(loadmat(oj(out_dir, 'mot_energy_feats_st.mat'))['S_fin'])\n",
    "X_test = np.array(loadmat(oj(out_dir, 'mot_energy_feats_sv.mat'))['S_fin'])\n",
    "\n",
    "'''\n",
    "resps_name = oj(out_dir, 'VoxelResponses_subject1.mat')\n",
    "Y_train = np.array(tables.open_file(resps_name).get_node(f'/rt')[:]) # training responses: 73728 (voxels) x 7200 (timepoints)\n",
    "Y_test = np.array(tables.open_file(resps_name).get_node(f'/rv')[:]) \n",
    "'''\n",
    "\n",
    "# response\n",
    "Y_train = load_h5(oj(out_dir, 'rt_norm.h5')) # training responses: 73728 (voxels) x 7200 (timepoints)    \n",
    "Y_test = load_h5(oj(out_dir, 'rv_norm.h5') )\n",
    "sigmas = load_h5(oj(out_dir, f'out_rva_sigmas.h5'))\n",
    "# (U, alphas, _) = pkl.load(open(oj(out_dir, f'decomp_mot_energy.pkl'), 'rb'))\n",
    "\n",
    "\n",
    "# for mnist data\n",
    "# dset = 'mnist'\n",
    "# X, _ = pmlb.fetch_data(dset, return_X_y=True)"
   ]
  },
  {
   "cell_type": "code",
   "execution_count": 10,
   "metadata": {},
   "outputs": [
    {
     "name": "stdout",
     "output_type": "stream",
     "text": [
      "(7200, 6555) (540, 6555)\n"
     ]
    }
   ],
   "source": [
    "print(X.shape, X_test.shape)"
   ]
  },
  {
   "cell_type": "markdown",
   "metadata": {},
   "source": [
    "# vary p/n\n",
    "**looks at how MDL-COMP varies as d/n varies (should keep n fixed)**"
   ]
  },
  {
   "cell_type": "code",
   "execution_count": 12,
   "metadata": {},
   "outputs": [
    {
     "name": "stderr",
     "output_type": "stream",
     "text": [
      "0it [00:00, ?it/s]"
     ]
    },
    {
     "name": "stdout",
     "output_type": "stream",
     "text": [
      "shapes 100 2000\n"
     ]
    },
    {
     "name": "stderr",
     "output_type": "stream",
     "text": [
      "2it [00:05,  2.56s/it]"
     ]
    },
    {
     "name": "stdout",
     "output_type": "stream",
     "text": [
      "shapes 100 1000\n"
     ]
    },
    {
     "name": "stderr",
     "output_type": "stream",
     "text": [
      "16it [00:05,  2.73it/s]"
     ]
    },
    {
     "name": "stdout",
     "output_type": "stream",
     "text": [
      "shapes 100 200\n",
      "shapes 100 133\n",
      "shapes 100 111\n",
      "shapes 100 100\n",
      "shapes 100 83\n",
      "shapes 100 66\n",
      "shapes 100 50\n",
      "shapes 100 20\n",
      "shapes 100 13\n",
      "shapes 100 10\n",
      "shapes 100 5\n"
     ]
    },
    {
     "name": "stderr",
     "output_type": "stream",
     "text": [
      "\n"
     ]
    }
   ],
   "source": [
    "def add_results(X_train, X_test, noise_std=0.1, beta_norm=1, d0=50):\n",
    "    np.random.seed(13)\n",
    "    n = X_train.shape[0]\n",
    "    d = X_train.shape[1]    \n",
    "    beta = np.zeros(d)\n",
    "    beta[0: d0] = 1\n",
    "#     beta = np.ones(d) # flat    \n",
    "#     beta = np.random.randn(d) \n",
    "#     beta = np.array([2**(-i) for i in range(d)]) # decay2\n",
    "    beta = beta / np.linalg.norm(beta) * beta_norm \n",
    "    y_train = X_train @ beta + noise_std * np.random.randn(n)\n",
    "    y_test = X_test @ beta + noise_std * np.random.randn(X_test.shape[0])\n",
    "    \n",
    "    u, a, vh = np.linalg.svd(X_train.T @ X_train, full_matrices=True)\n",
    "    w = vh @ beta\n",
    "    c = (1 / (2 * X_train.shape[0]))\n",
    "    logsum = 0\n",
    "    for i in range(min(n, d)):\n",
    "        logsum += np.log(1 + a[i] * w[i]**2 / noise_std**2)\n",
    "    return c * logsum\n",
    "\n",
    "\n",
    "\n",
    "# X_train_full, X_test_full = train_test_split(X, test_size=10000) # for mnist\n",
    "X_train_full = X\n",
    "X_test_full = X_test\n",
    "n_train_over_num_features_list = np.array([1e-2, 5e-2, 1e-1, 0.5, 0.75, 0.9, 1,\n",
    "                                  1.2, 1.5, 2, 5, 7.5, 1e1, 2e1, 4e1, 1e2])\n",
    "n = n_train_over_num_features_list.size\n",
    "mdl_comps = []\n",
    "ratios = []\n",
    "for i, n_train_over_num_features in tqdm(enumerate(n_train_over_num_features_list)):\n",
    "    n_train_over_num_features = n_train_over_num_features\n",
    "    \n",
    "    # vary n\n",
    "    '''\n",
    "    num_features = X.shape[1]\n",
    "    n_train = int(n_train_over_num_features * num_features)\n",
    "    \n",
    "    '''\n",
    "    \n",
    "    # vary d\n",
    "    n_train = 100\n",
    "    d0 = 50\n",
    "    num_features = int(n_train / n_train_over_num_features)\n",
    "    \n",
    "    if n_train < X_train_full.shape[0] and num_features < X_train_full.shape[1] and n_train > 3 and num_features > 3:\n",
    "        print('shapes', n_train, num_features)\n",
    "        ratios.append(n_train_over_num_features)\n",
    "        X_train = X_train_full[:n_train, :num_features]\n",
    "        X_test = X_test_full[:, :num_features]\n",
    "        mdl_comps.append(add_results(X_train, X_test, d0=d0))\n",
    "r = {'mdl_comps': mdl_comps,\n",
    "     'n_train_over_num_features': n_train_over_num_features_list,\n",
    "     'ratios': ratios\n",
    "    }"
   ]
  },
  {
   "cell_type": "code",
   "execution_count": 20,
   "metadata": {},
   "outputs": [],
   "source": [
    "# pkl.dump(r, open(f'intermediate/{dset}_mdl_comps_dstar=20.pkl', 'wb'))"
   ]
  },
  {
   "cell_type": "markdown",
   "metadata": {},
   "source": [
    "**fig complexity vs d/n**"
   ]
  },
  {
   "cell_type": "code",
   "execution_count": 13,
   "metadata": {},
   "outputs": [
    {
     "name": "stdout",
     "output_type": "stream",
     "text": [
      "[1.905076216501342, 1.7776187047622163, 1.189553032498662, 1.0593311621320154, 1.021161797206879, 0.9688901001669287, 0.8500727094224786, 0.7865856621259717, 0.514044632371064, 0.3269739968056982, 0.2476354457874982, 0.2259102962007965, 0.16378838768082216]\n"
     ]
    },
    {
     "name": "stderr",
     "output_type": "stream",
     "text": [
      "/accounts/projects/vision/.local/lib/python3.7/site-packages/ipykernel_launcher.py:24: MatplotlibDeprecationWarning: Adding an axes using the same arguments as a previous axes currently reuses the earlier instance.  In a future version, a new instance will always be created and returned.  Meanwhile, this warning can be suppressed, and the future behavior ensured, by passing a unique label to each axes instance.\n"
     ]
    },
    {
     "data": {
      "image/png": "[encoded data removed]",
      "text/plain": [
       "<Figure size 288x216 with 1 Axes>"
      ]
     },
     "metadata": {
      "needs_background": "light"
     },
     "output_type": "display_data"
    }
   ],
   "source": [
    "plt.figure(figsize=(4, 3))\n",
    "# plt.axhline(df.mse_zero.values[0], lw=4, color='gray', alpha=0.4, label='trivial')\n",
    "# plt.title('A', fontweight='bold', loc='left')\n",
    "#         plt.plot(curve.loss_val, curve.mse_test, **kwargs) #np.square(curve.bias) + curve['var'], **kwargs)\n",
    "plt.ylabel('MDL-COMP')\n",
    "plt.xlabel('$d / n$') #\\n(Number of features / Number of training points)')\n",
    "\n",
    "# r = pkl.load(open(f'intermediate/{dset}_mdl_comps_dstar=20.pkl', 'rb'))\n",
    "print(r['mdl_comps'])\n",
    "plt.plot(1/np.array(r['ratios']), r['mdl_comps'], label='Random Gaussian beta')\n",
    "'''\n",
    "r = pkl.load(open(f'intermediate/{dset}_mdl_comps.pkl', 'rb'))\n",
    "plt.plot(1/np.array(r['n_train_over_num_features']), r['mdl_comps'], label='Random Gaussian beta')\n",
    "r = pkl.load(open(f'intermediate/{dset}_mdl_comps_flat.pkl', 'rb'))\n",
    "plt.plot(1/np.array(r['n_train_over_num_features']), r['mdl_comps'], label='Uniform beta')\n",
    "r = pkl.load(open(f'intermediate/{dset}_mdl_comps_decay2.pkl', 'rb'))\n",
    "plt.plot(1/np.array(r['n_train_over_num_features']), r['mdl_comps'], label='Decay 2')\n",
    "'''\n",
    "\n",
    "\n",
    "# plt.legend()\n",
    "\n",
    "\n",
    "ax = plt.subplot(111)\n",
    "ax.spines['right'].set_visible(False)\n",
    "ax.spines['top'].set_visible(False)\n",
    "plt.xscale('log')\n",
    "plt.yscale('log')\n",
    "plt.grid()\n",
    "plt.tight_layout()\n",
    "# plt.savefig(oj(save_dir, 'fig_iid_comp.pdf'))"
   ]
  }
 ],
 "metadata": {
  "anaconda-cloud": {},
  "kernelspec": {
   "display_name": "Python 3",
   "language": "python",
   "name": "python3"
  },
  "language_info": {
   "codemirror_mode": {
    "name": "ipython",
    "version": 3
   },
   "file_extension": ".py",
   "mimetype": "text/x-python",
   "name": "python",
   "nbconvert_exporter": "python",
   "pygments_lexer": "ipython3",
   "version": "3.7.5"
  }
 },
 "nbformat": 4,
 "nbformat_minor": 4
}
