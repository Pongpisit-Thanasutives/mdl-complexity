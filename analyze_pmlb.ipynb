{
 "cells": [
  {
   "cell_type": "code",
   "execution_count": 120,
   "metadata": {},
   "outputs": [
    {
     "name": "stdout",
     "output_type": "stream",
     "text": [
      "The autoreload extension is already loaded. To reload it, use:\n",
      "  %reload_ext autoreload\n",
      "pmlb0  pmlb10  pmlb13  pmlb15  pmlb17  pmlb3  pmlb5  pmlb7  pmlb9\n",
      "pmlb1  pmlb11  pmlb14  pmlb16  pmlb2   pmlb4  pmlb6  pmlb8\n",
      "['pmlb6', 'pmlb36', 'pmlb17', 'pmlb25', 'pmlb22', 'pmlb28', 'pmlb10', 'pmlb31', 'pmlb1', 'pmlb35', 'pmlb5', 'pmlb14', 'pmlb26', 'pmlb21', 'pmlb19', 'pmlb13', 'pmlb8', 'pmlb2', 'pmlb32', 'pmlb38', 'pmlb30', 'pmlb29', 'pmlb23', 'pmlb16', 'pmlb24', 'pmlb7', 'pmlb37', 'pmlb3', 'pmlb9', 'pmlb39', 'pmlb33', 'pmlb20', 'pmlb12', 'pmlb18', 'pmlb15', 'pmlb27', 'pmlb34', 'pmlb4']\n"
     ]
    }
   ],
   "source": [
    "import os\n",
    "from os.path import join as oj\n",
    "import sys, time\n",
    "sys.path.insert(1, oj(sys.path[0], '..'))  # insert parent path\n",
    "import seaborn as sns\n",
    "from sklearn.model_selection import train_test_split\n",
    "import numpy as np\n",
    "import matplotlib.pyplot as plt\n",
    "import pmlb\n",
    "from tqdm import tqdm\n",
    "from copy import deepcopy\n",
    "import pickle as pkl\n",
    "import pandas as pd\n",
    "import data\n",
    "import numpy.linalg as npl\n",
    "from scipy.optimize import minimize\n",
    "from process_results import process_results, aggregate_results, best_ridge\n",
    "\n",
    "%matplotlib inline\n",
    "%load_ext autoreload\n",
    "%autoreload 2\n",
    "\n",
    "!ls /scratch/users/vision/yu_dl/raaz.rsk/mdl_sim_may/may21 # may14, may21\n",
    "parent_dir = '/scratch/users/vision/yu_dl/raaz.rsk/mdl_sim_may/may22_3/'\n",
    "save_dir = 'results'\n",
    "os.makedirs(save_dir, exist_ok=True)\n",
    "folders = os.listdir(parent_dir)\n",
    "print(folders)\n",
    "# folders = [f for f in folders if 'may11' in f]"
   ]
  },
  {
   "cell_type": "markdown",
   "metadata": {},
   "source": [
    "# load results from a directory\n",
    "**note - this script aggregates results - needs to be done to average across trials to make double descent curves**"
   ]
  },
  {
   "cell_type": "code",
   "execution_count": null,
   "metadata": {},
   "outputs": [],
   "source": [
    "!rm /scratch/users/vision/yu_dl/raaz.rsk/mdl_sim_may/may22_3/*/*processed*\n",
    "!python process_results.py"
   ]
  },
  {
   "cell_type": "markdown",
   "metadata": {},
   "source": [
    "# figures"
   ]
  },
  {
   "cell_type": "code",
   "execution_count": 121,
   "metadata": {},
   "outputs": [],
   "source": [
    "import matplotlib.pyplot as plt\n",
    "\n",
    "SMALL_SIZE = 12\n",
    "MEDIUM_SIZE = 12\n",
    "BIGGER_SIZE = 12\n",
    "\n",
    "plt.rc('font', size=SMALL_SIZE)          # controls default text sizes\n",
    "plt.rc('axes', titlesize=SMALL_SIZE)     # fontsize of the axes title\n",
    "plt.rc('axes', labelsize=MEDIUM_SIZE)    # fontsize of the x and y labels\n",
    "plt.rc('xtick', labelsize=SMALL_SIZE)    # fontsize of the tick labels\n",
    "plt.rc('ytick', labelsize=SMALL_SIZE)    # fontsize of the tick labels\n",
    "plt.rc('legend', fontsize=SMALL_SIZE)    # legend fontsize\n",
    "plt.rc('figure', titlesize=BIGGER_SIZE)  # fontsize of the figure title\n",
    "\n",
    "LABS = {\n",
    "    'mdl_m10.0': 'MDL-COMP',\n",
    "    'mdl_m1-1.0': 'MDL-COMP',\n",
    "    'ridge-1.0': 'Ridge-CV',\n",
    "    'mdl_orig0.0': 'MDL-COMP-ORIG',\n",
    "    'ols0.0': 'OLS'\n",
    "}"
   ]
  },
  {
   "cell_type": "markdown",
   "metadata": {},
   "source": [
    "**pmlb fig**"
   ]
  },
  {
   "cell_type": "code",
   "execution_count": null,
   "metadata": {},
   "outputs": [],
   "source": [
    "dsets = []\n",
    "plot_all = False\n",
    "R, C = 4, 7\n",
    "# lets = ['A', 'B', 'C', 'D', 'E']\n",
    "titles = {\n",
    "    't': 'T-Distribution',\n",
    "    'thresh': 'Thresholds',\n",
    "    'decay': 'Decaying eigenvalues'\n",
    "}\n",
    "fig = plt.figure(figsize=(20, 8.5))\n",
    "j = 0\n",
    "for folder in folders: #, 'clustered', 'gaussian_scale_var']):\n",
    "#     plt.title(lets[j], fontweight='bold', loc='left')    \n",
    "    out_dir = oj(parent_dir, folder)\n",
    "    df = pd.read_pickle(oj(out_dir, 'processed.pkl')).reset_index()\n",
    "    dset_name = df['dset_name'].values[0]\n",
    "    if dset_name not in data.REGRESSION_DSETS_LARGE_NAMES_RECOGNIZABLE:\n",
    "        continue\n",
    "    plt.subplot(R, C, j + 1)\n",
    "#     plt.axhline(df.mse_zero.values[0], lw=4, color='gray', alpha=0.4, label='trivial')\n",
    "    for i in range(df.shape[0]):\n",
    "        curve = df.iloc[i]\n",
    "    \n",
    "        if curve.model_type == 'ridge' and curve.reg_param != -1:\n",
    "            continue\n",
    "        if curve.model_type == 'ols':\n",
    "            continue\n",
    "        l = str(curve.model_type) + str(curve.reg_param)\n",
    "            \n",
    "\n",
    "        kwargs = {'label': LABS[l], 'alpha': 0.5, 'lw': 2}\n",
    "\n",
    "    #     plt.plot(curve.ratio, curve.mse_test, \n",
    "        plt.plot(curve.ratio, curve.mse_test, **kwargs) #np.square(curve.bias) + curve['var'], **kwargs)\n",
    "    if j == 0:\n",
    "        plt.ylabel('Mean-squared error\\n(test set)')\n",
    "    plt.xlabel('p / n') #\\n(Number of features / Number of training points)')\n",
    "    plt.xscale('log')\n",
    "    plt.yscale('log')\n",
    "\n",
    "#     s = f'{model_type}_{dset}_{dset_name}+p={num_features}+lambda={reg_param}+noise_mult={noise_mult}'\n",
    "    if j == C - 1:\n",
    "        plt.legend()\n",
    "    \n",
    "    plt.title(dset_name, fontsize=9)\n",
    "    plt.axis('off')\n",
    "    j += 1\n",
    "\n",
    "    \n",
    "ax = plt.subplot(R, C, C * 2 + 1)    \n",
    "plt.axis('on')\n",
    "ax.set_yticks([])\n",
    "plt.yscale('linear')\n",
    "plt.ylabel('Test MSE (log-scale)', fontsize=20) #, va='top')\n",
    "ax.spines['top'].set_visible(False)\n",
    "ax.spines['right'].set_visible(False)\n",
    "ax.spines['bottom'].set_visible(False)\n",
    "ax.spines['left'].set_visible(False)\n",
    "ax.get_xaxis().set_visible(False)\n",
    "plt.tick_params(top='off', bottom='off', left='off', right='off', labelleft='off', labelbottom='on')\n",
    "ax.set_yticks([])\n",
    "\n",
    "\n",
    "\n",
    "ax = plt.subplot(R, C, R * (C - 1) + C//2 - 2)\n",
    "plt.xlabel('p/n (log-scale)', fontsize=20)\n",
    "plt.axis('on')\n",
    "plt.xticks([])\n",
    "ax.spines['top'].set_visible(False)\n",
    "ax.spines['right'].set_visible(False)\n",
    "# ax.spines['bottom'].set_visible(False)\n",
    "ax.spines['left'].set_visible(False)\n",
    "ax.get_yaxis().set_visible(False)\n",
    "# plt.text(0, 1, 'Test MSE')\n",
    "\n",
    "plt.tight_layout()\n",
    "plt.subplots_adjust(hspace=0.1, wspace=0.1)\n",
    "plt.savefig(oj(save_dir, 'fig_pmlb.pdf'))\n",
    "# plt.show()"
   ]
  }
 ],
 "metadata": {
  "anaconda-cloud": {},
  "kernelspec": {
   "display_name": "Python 3",
   "language": "python",
   "name": "python3"
  },
  "language_info": {
   "codemirror_mode": {
    "name": "ipython",
    "version": 3
   },
   "file_extension": ".py",
   "mimetype": "text/x-python",
   "name": "python",
   "nbconvert_exporter": "python",
   "pygments_lexer": "ipython3",
   "version": "3.7.5"
  }
 },
 "nbformat": 4,
 "nbformat_minor": 4
}
