{
 "cells": [
  {
   "cell_type": "code",
   "execution_count": 41,
   "metadata": {},
   "outputs": [
    {
     "name": "stdout",
     "output_type": "stream",
     "text": [
      "The autoreload extension is already loaded. To reload it, use:\n",
      "  %reload_ext autoreload\n"
     ]
    }
   ],
   "source": [
    "import os\n",
    "from os.path import join as oj\n",
    "import sys, time\n",
    "sys.path.insert(1, oj(sys.path[0], '..'))  # insert parent path\n",
    "import seaborn as sns\n",
    "from sklearn.model_selection import train_test_split\n",
    "import numpy as np\n",
    "import matplotlib.pyplot as plt\n",
    "import pmlb\n",
    "from tqdm import tqdm\n",
    "from copy import deepcopy\n",
    "import pickle as pkl\n",
    "import pandas as pd\n",
    "import data\n",
    "import numpy.linalg as npl \n",
    "import numpy.random as npr\n",
    "from scipy.optimize import minimize\n",
    "# from process_results import process_results, aggregate_results, best_ridge\n",
    "from scipy.stats import ortho_group\n",
    "from sklearn.linear_model import LinearRegression, RidgeCV\n",
    "import scipy.linalg as scl\n",
    "import pickle\n",
    "%matplotlib inline\n",
    "%load_ext autoreload\n",
    "%autoreload 2\n",
    "\n",
    "save_dir = 'results'\n",
    "os.makedirs(save_dir, exist_ok=True)\n"
   ]
  },
  {
   "cell_type": "code",
   "execution_count": 42,
   "metadata": {},
   "outputs": [],
   "source": [
    "import matplotlib as mpl\n",
    "label_size = 20\n",
    "mpl.rcParams['xtick.labelsize'] = label_size \n",
    "mpl.rcParams['ytick.labelsize'] = label_size \n",
    "mpl.rcParams['axes.labelsize'] = label_size\n",
    "mpl.rcParams['axes.titlesize'] = 14\n",
    "mpl.rcParams['figure.titlesize'] = 10\n",
    "# mpl.rcParams['lines.markersize'] = 8\n",
    "mpl.rcParams['grid.linewidth'] = 2.5\n",
    "mpl.rcParams['legend.fontsize'] = 20\n",
    "# pylab.rcParams['xtick.major.pad']=5\n",
    "# pylab.rcParams['ytick.major.pad']=5"
   ]
  },
  {
   "cell_type": "code",
   "execution_count": 43,
   "metadata": {},
   "outputs": [],
   "source": [
    "cs=sns.color_palette()"
   ]
  },
  {
   "cell_type": "markdown",
   "metadata": {},
   "source": [
    "## MDL COMP FOR different eigenvalues decay of Matrices"
   ]
  },
  {
   "cell_type": "code",
   "execution_count": 47,
   "metadata": {},
   "outputs": [
    {
     "data": {
      "text/plain": [
       "1.8711756154949768"
      ]
     },
     "execution_count": 47,
     "metadata": {},
     "output_type": "execute_result"
    }
   ],
   "source": [
    "np.sum(np.log(1+f**2 *eigenvals[:min(n, d)] * (w**2/noise_std**2)[:min(n, d)])) / n"
   ]
  },
  {
   "cell_type": "code",
   "execution_count": 48,
   "metadata": {},
   "outputs": [],
   "source": [
    "noise_std = 1."
   ]
  },
  {
   "cell_type": "code",
   "execution_count": 49,
   "metadata": {},
   "outputs": [
    {
     "data": {
      "text/plain": [
       "0.14172606273661373"
      ]
     },
     "execution_count": 49,
     "metadata": {},
     "output_type": "execute_result"
    }
   ],
   "source": [
    "np.sum(np.log(1+f**2 *eigenvals[:min(n, d)] * (w**2/noise_std**2)[:min(n, d)])) / n"
   ]
  },
  {
   "cell_type": "code",
   "execution_count": 44,
   "metadata": {},
   "outputs": [
    {
     "name": "stderr",
     "output_type": "stream",
     "text": [
      "  0%|          | 0/3 [00:00<?, ?it/s]\n",
      "0it [00:00, ?it/s]\u001b[A\n",
      "3it [00:00, 22.87it/s]\u001b[A"
     ]
    },
    {
     "name": "stdout",
     "output_type": "stream",
     "text": [
      "0 100 0 20 200\n",
      "0 100 1 20 200\n",
      "0 400 0 20 200\n",
      "0 400 1 20 200\n",
      "0 100 0 100 200\n",
      "0 100 1 100 200\n",
      "0 400 0 100 200\n",
      "0 400 1 100 200\n",
      "0 100 0 200 200\n",
      "0 100 1 200 200\n",
      "0 400 0 200 200\n",
      "0 400 1 200 200\n"
     ]
    },
    {
     "name": "stderr",
     "output_type": "stream",
     "text": [
      "\n",
      "4it [00:00, 10.72it/s]\u001b[A"
     ]
    },
    {
     "name": "stdout",
     "output_type": "stream",
     "text": [
      "0 100 0 400 200\n",
      "0 100 1 400 200\n",
      "0 400 0 400 200\n",
      "0 400 1 400 200\n"
     ]
    },
    {
     "name": "stderr",
     "output_type": "stream",
     "text": [
      "\n",
      "5it [00:01,  2.19it/s]\u001b[A"
     ]
    },
    {
     "name": "stdout",
     "output_type": "stream",
     "text": [
      "0 100 0 1000 200\n",
      "0 100 1 1000 200\n",
      "0 400 0 1000 200\n",
      "0 400 1 1000 200\n"
     ]
    },
    {
     "name": "stderr",
     "output_type": "stream",
     "text": [
      "\n",
      "6it [00:09,  2.53s/it]\u001b[A"
     ]
    },
    {
     "name": "stdout",
     "output_type": "stream",
     "text": [
      "0 100 0 2000 200\n",
      "0 100 1 2000 200\n",
      "0 400 0 2000 200\n",
      "0 400 1 2000 200\n"
     ]
    },
    {
     "name": "stderr",
     "output_type": "stream",
     "text": [
      "\n",
      "0it [00:00, ?it/s]\u001b[A\n",
      "3it [00:00, 22.50it/s]\u001b[A"
     ]
    },
    {
     "name": "stdout",
     "output_type": "stream",
     "text": [
      "0 100 0 20 200\n",
      "0 100 1 20 200\n",
      "0 400 0 20 200\n",
      "0 400 1 20 200\n",
      "0 100 0 100 200\n",
      "0 100 1 100 200\n",
      "0 400 0 100 200\n",
      "0 400 1 100 200\n",
      "0 100 0 200 200\n",
      "0 100 1 200 200\n",
      "0 400 0 200 200\n",
      "0 400 1 200 200\n"
     ]
    },
    {
     "name": "stderr",
     "output_type": "stream",
     "text": [
      "\n",
      "4it [00:00, 10.42it/s]\u001b[A"
     ]
    },
    {
     "name": "stdout",
     "output_type": "stream",
     "text": [
      "0 100 0 400 200\n",
      "0 100 1 400 200\n",
      "0 400 0 400 200\n",
      "0 400 1 400 200\n"
     ]
    },
    {
     "name": "stderr",
     "output_type": "stream",
     "text": [
      "\n",
      "5it [00:01,  2.11it/s]\u001b[A"
     ]
    },
    {
     "name": "stdout",
     "output_type": "stream",
     "text": [
      "0 100 0 1000 200\n",
      "0 100 1 1000 200\n",
      "0 400 0 1000 200\n",
      "0 400 1 1000 200\n"
     ]
    },
    {
     "name": "stderr",
     "output_type": "stream",
     "text": [
      "\n",
      " 33%|███▎      | 1/3 [00:18<00:37, 18.98s/it]"
     ]
    },
    {
     "name": "stdout",
     "output_type": "stream",
     "text": [
      "0 100 0 2000 200\n",
      "0 100 1 2000 200\n",
      "0 400 0 2000 200\n",
      "0 400 1 2000 200\n"
     ]
    },
    {
     "name": "stderr",
     "output_type": "stream",
     "text": [
      "\n",
      "0it [00:00, ?it/s]\u001b[A\n",
      "3it [00:00, 21.10it/s]\u001b[A"
     ]
    },
    {
     "name": "stdout",
     "output_type": "stream",
     "text": [
      "1 100 0 20 200\n",
      "1 100 1 20 200\n",
      "1 400 0 20 200\n",
      "1 400 1 20 200\n",
      "1 100 0 100 200\n",
      "1 100 1 100 200\n",
      "1 400 0 100 200\n",
      "1 400 1 100 200\n",
      "1 100 0 200 200\n",
      "1 100 1 200 200\n",
      "1 400 0 200 200\n",
      "1 400 1 200 200\n"
     ]
    },
    {
     "name": "stderr",
     "output_type": "stream",
     "text": [
      "\n",
      "4it [00:00,  9.76it/s]\u001b[A"
     ]
    },
    {
     "name": "stdout",
     "output_type": "stream",
     "text": [
      "1 100 0 400 200\n",
      "1 100 1 400 200\n",
      "1 400 0 400 200\n",
      "1 400 1 400 200\n"
     ]
    },
    {
     "name": "stderr",
     "output_type": "stream",
     "text": [
      "\n",
      "5it [00:01,  1.97it/s]\u001b[A"
     ]
    },
    {
     "name": "stdout",
     "output_type": "stream",
     "text": [
      "1 100 0 1000 200\n",
      "1 100 1 1000 200\n",
      "1 400 0 1000 200\n",
      "1 400 1 1000 200\n"
     ]
    },
    {
     "name": "stderr",
     "output_type": "stream",
     "text": [
      "\n",
      "6it [00:09,  2.58s/it]\u001b[A"
     ]
    },
    {
     "name": "stdout",
     "output_type": "stream",
     "text": [
      "1 100 0 2000 200\n",
      "1 100 1 2000 200\n",
      "1 400 0 2000 200\n",
      "1 400 1 2000 200\n"
     ]
    },
    {
     "name": "stderr",
     "output_type": "stream",
     "text": [
      "\n",
      "0it [00:00, ?it/s]\u001b[A\n",
      "3it [00:00, 29.38it/s]\u001b[A"
     ]
    },
    {
     "name": "stdout",
     "output_type": "stream",
     "text": [
      "1 100 0 20 200\n",
      "1 100 1 20 200\n",
      "1 400 0 20 200\n",
      "1 400 1 20 200\n",
      "1 100 0 100 200\n",
      "1 100 1 100 200\n",
      "1 400 0 100 200\n",
      "1 400 1 100 200\n",
      "1 100 0 200 200\n",
      "1 100 1 200 200\n",
      "1 400 0 200 200\n",
      "1 400 1 200 200\n"
     ]
    },
    {
     "name": "stderr",
     "output_type": "stream",
     "text": [
      "\n",
      "4it [00:00, 14.51it/s]\u001b[A"
     ]
    },
    {
     "name": "stdout",
     "output_type": "stream",
     "text": [
      "1 100 0 400 200\n",
      "1 100 1 400 200\n",
      "1 400 0 400 200\n",
      "1 400 1 400 200\n"
     ]
    },
    {
     "name": "stderr",
     "output_type": "stream",
     "text": [
      "\n",
      "5it [00:01,  3.16it/s]\u001b[A"
     ]
    },
    {
     "name": "stdout",
     "output_type": "stream",
     "text": [
      "1 100 0 1000 200\n",
      "1 100 1 1000 200\n",
      "1 400 0 1000 200\n",
      "1 400 1 1000 200\n"
     ]
    },
    {
     "name": "stderr",
     "output_type": "stream",
     "text": [
      "\n",
      " 67%|██████▋   | 2/3 [00:35<00:18, 18.35s/it]"
     ]
    },
    {
     "name": "stdout",
     "output_type": "stream",
     "text": [
      "1 100 0 2000 200\n",
      "1 100 1 2000 200\n",
      "1 400 0 2000 200\n",
      "1 400 1 2000 200\n"
     ]
    },
    {
     "name": "stderr",
     "output_type": "stream",
     "text": [
      "\n",
      "0it [00:00, ?it/s]\u001b[A\n",
      "3it [00:00, 27.36it/s]\u001b[A"
     ]
    },
    {
     "name": "stdout",
     "output_type": "stream",
     "text": [
      "2 100 0 20 200\n",
      "2 100 1 20 200\n",
      "2 400 0 20 200\n",
      "2 400 1 20 200\n",
      "2 100 0 100 200\n",
      "2 100 1 100 200\n",
      "2 400 0 100 200\n",
      "2 400 1 100 200\n",
      "2 100 0 200 200\n",
      "2 100 1 200 200\n",
      "2 400 0 200 200\n",
      "2 400 1 200 200\n"
     ]
    },
    {
     "name": "stderr",
     "output_type": "stream",
     "text": [
      "\n",
      "4it [00:00, 14.21it/s]\u001b[A"
     ]
    },
    {
     "name": "stdout",
     "output_type": "stream",
     "text": [
      "2 100 0 400 200\n",
      "2 100 1 400 200\n",
      "2 400 0 400 200\n",
      "2 400 1 400 200\n"
     ]
    },
    {
     "name": "stderr",
     "output_type": "stream",
     "text": [
      "\n",
      "5it [00:01,  3.06it/s]\u001b[A"
     ]
    },
    {
     "name": "stdout",
     "output_type": "stream",
     "text": [
      "2 100 0 1000 200\n",
      "2 100 1 1000 200\n",
      "2 400 0 1000 200\n",
      "2 400 1 1000 200\n"
     ]
    },
    {
     "name": "stderr",
     "output_type": "stream",
     "text": [
      "\n",
      "6it [00:31,  9.24s/it]\u001b[A"
     ]
    },
    {
     "name": "stdout",
     "output_type": "stream",
     "text": [
      "2 100 0 2000 200\n",
      "2 100 1 2000 200\n",
      "2 400 0 2000 200\n",
      "2 400 1 2000 200\n"
     ]
    },
    {
     "name": "stderr",
     "output_type": "stream",
     "text": [
      "\n",
      "0it [00:00, ?it/s]\u001b[A\n",
      "3it [00:00, 28.66it/s]\u001b[A"
     ]
    },
    {
     "name": "stdout",
     "output_type": "stream",
     "text": [
      "2 100 0 20 200\n",
      "2 100 1 20 200\n",
      "2 400 0 20 200\n",
      "2 400 1 20 200\n",
      "2 100 0 100 200\n",
      "2 100 1 100 200\n",
      "2 400 0 100 200\n",
      "2 400 1 100 200\n",
      "2 100 0 200 200\n",
      "2 100 1 200 200\n",
      "2 400 0 200 200\n",
      "2 400 1 200 200\n"
     ]
    },
    {
     "name": "stderr",
     "output_type": "stream",
     "text": [
      "\n",
      "4it [00:00, 13.79it/s]\u001b[A"
     ]
    },
    {
     "name": "stdout",
     "output_type": "stream",
     "text": [
      "2 100 0 400 200\n",
      "2 100 1 400 200\n",
      "2 400 0 400 200\n",
      "2 400 1 400 200\n"
     ]
    },
    {
     "name": "stderr",
     "output_type": "stream",
     "text": [
      "\n",
      "5it [00:01,  2.94it/s]\u001b[A"
     ]
    },
    {
     "name": "stdout",
     "output_type": "stream",
     "text": [
      "2 100 0 1000 200\n",
      "2 100 1 1000 200\n",
      "2 400 0 1000 200\n",
      "2 400 1 1000 200\n"
     ]
    },
    {
     "name": "stderr",
     "output_type": "stream",
     "text": [
      "\n",
      "100%|██████████| 3/3 [01:15<00:00, 24.67s/it]"
     ]
    },
    {
     "name": "stdout",
     "output_type": "stream",
     "text": [
      "2 100 0 2000 200\n",
      "2 100 1 2000 200\n",
      "2 400 0 2000 200\n",
      "2 400 1 2000 200\n"
     ]
    },
    {
     "name": "stderr",
     "output_type": "stream",
     "text": [
      "\n"
     ]
    }
   ],
   "source": [
    "save_data = True\n",
    "\n",
    "npr.seed(121123)\n",
    "\n",
    "\n",
    "noise_std = 0.1\n",
    "d0s = np.array([100, 400], dtype=int)\n",
    "ds = np.array([20, 100, 200, 400, 1000, 2000])\n",
    "ns = np.array([200])\n",
    "epows = [0., 0.5]\n",
    "\n",
    "num_norms = 2\n",
    "num_trials = 3\n",
    "rmt_mdl_comp = np.zeros((num_trials, num_norms, len(ds), len(ns), len(d0s), len(epows)))\n",
    "rmt_mdl_comp_2 = np.zeros((num_trials, num_norms, len(ds), len(ns), len(d0s), len(epows)))\n",
    "rmt_mdl_comp_3 = np.zeros((num_trials, num_norms, len(ds), len(ns), len(d0s), len(epows)))\n",
    "\n",
    "\n",
    "new_rmt_mdl_comp = np.zeros((num_trials,num_norms, len(ds), len(ns), len(d0s), len(epows)))\n",
    "new_rmt_mdl_comp_2 = np.zeros((num_trials,num_norms, len(ds), len(ns), len(d0s), len(epows)))\n",
    "new_rmt_mdl_comp_3 = np.zeros((num_trials,num_norms, len(ds), len(ns), len(d0s), len(epows)))\n",
    "\n",
    "dmax = max(ds)\n",
    "\n",
    "beta_stars = np.zeros((len(d0s), dmax))\n",
    "# initialize beta_Star fixed\n",
    "for l, d0 in enumerate(d0s):\n",
    "    beta_fixed = npr.randn(d0)\n",
    "    beta_fixed /= npl.norm(beta_fixed)\n",
    "    beta_stars[l, :d0] = beta_fixed\n",
    "\n",
    "\n",
    "for m in tqdm(range(num_trials)):\n",
    "    \n",
    "    # change X_train\n",
    "    for p, epow in enumerate(epows):\n",
    "        \n",
    "        eigs = np.diag(np.arange(1, dmax+1)**(-epow))\n",
    "        X_train = npr.randn(max(ns), dmax) @ eigs\n",
    "\n",
    "        y_train_stars = np.zeros((len(d0s), ns[0]))\n",
    "\n",
    "        for ltemp, d0 in enumerate(d0s):\n",
    "            y_train_stars[ltemp, :] = X_train[:, :d0] @ beta_stars[ltemp, :d0]\n",
    "\n",
    "        for j, d in tqdm(enumerate(ds)):\n",
    "            for k, n in enumerate(ns):\n",
    "                X_train_d = X_train[:n, :d]\n",
    "                eigenvals, eigenvecs = scl.eigh(X_train_d.T @ X_train_d)\n",
    "                eigenvals = eigenvals[::-1]\n",
    "                V, s, Uh = scl.svd(X_train_d, full_matrices=False)\n",
    "\n",
    "                for l, d0 in enumerate(d0s):\n",
    "\n",
    "                    w = eigenvecs.T @ beta_stars[l, :d]\n",
    "                    w = w[::-1] # arrange in order\n",
    "\n",
    "                    v = V.T @ y_train_stars[l, :]\n",
    "\n",
    "\n",
    "                    for i in range(num_norms):\n",
    "                        print(m, d0, i, d, n)\n",
    "                        f = (i+1)**2\n",
    "\n",
    "                        rmt_mdl_comp[m, i, j, k, l, p] = np.sum(np.log(1+f**2 *eigenvals[:min(n, d)] * (w**2/noise_std**2)[:min(n, d)])) / n\n",
    "                        rmt_mdl_comp_2[m, i, j, k, l, p]  = rmt_mdl_comp[m, i, j, k, l, p] + np.sum(np.log((noise_std**2 / (f**2 * w**2))[:min(n, d)])) / n\n",
    "                        rmt_mdl_comp_3[m, i, j, k, l, p] = rmt_mdl_comp_2[m, i, j, k, l, p] - np.log(0.005) * min(n, d)/n\n",
    "\n",
    "\n",
    "                        new_rmt_mdl_comp[m, i, j, k, l, p] = np.sum(np.log(1+f**2 * v**2/noise_std**2)) / n\n",
    "                        new_rmt_mdl_comp_2[m, i, j, k, l, p] = new_rmt_mdl_comp[m, i, j, k, l, p] + np.sum(np.log( noise_std**2 / (f**2 * v**2))) / n\n",
    "                        new_rmt_mdl_comp_3[m, i, j, k, l, p] = new_rmt_mdl_comp_2[m, i, j, k, l, p] - np.log(0.005) *min(n, d)/n "
   ]
  },
  {
   "cell_type": "code",
   "execution_count": 45,
   "metadata": {},
   "outputs": [],
   "source": [
    "if save_data:\n",
    "    results = {'ns': ns, 'd0s': d0s,  'ds' : ds,\n",
    "               'epows': epows,\n",
    "               'num_trials': num_trials, \n",
    "               'num_norms': num_norms,\n",
    "               'noise_var': noise_std**2,\n",
    "                'rmt_mdl_comp': rmt_mdl_comp,\n",
    "               'rmt_mdl_comp_2':rmt_mdl_comp_2,\n",
    "               'rmt_mdl_comp_3' : rmt_mdl_comp_3,\n",
    "               'new_rmt_mdl_comp': new_rmt_mdl_comp,\n",
    "               'new_rmt_mdl_comp_2': new_rmt_mdl_comp_2,\n",
    "               'new_rmt_mdl_comp_3': new_rmt_mdl_comp_3\n",
    "              }\n",
    "    file = open('decay_mdl_n_%d_noise_%d.txt'%(ns[0], noise_std), 'wb')\n",
    "    pickle.dump(results, file)\n",
    "    file.close()\n",
    "    \n",
    "# results = pickle.load(open('decay_mdl_n_200.txt', 'rb'))"
   ]
  },
  {
   "cell_type": "code",
   "execution_count": 62,
   "metadata": {},
   "outputs": [
    {
     "data": {
      "image/png": "[encoded data removed]",
      "text/plain": [
       "<Figure size 576x432 with 1 Axes>"
      ]
     },
     "metadata": {
      "needs_background": "light"
     },
     "output_type": "display_data"
    },
    {
     "data": {
      "image/png": "[encoded data removed]",
      "text/plain": [
       "<Figure size 576x432 with 1 Axes>"
      ]
     },
     "metadata": {
      "needs_background": "light"
     },
     "output_type": "display_data"
    }
   ],
   "source": [
    "save_fig = True\n",
    "for ff, (file, noise_std) in enumerate(zip(['decay_mdl_n_200_noise_1.txt', 'decay_mdl_n_200_noise_0.txt'], [1, .1])):\n",
    "    results = pickle.load(open(file, 'rb'))\n",
    "    \n",
    "    num_norms = results[\"num_norms\"]\n",
    "    d0s = results[\"d0s\"]\n",
    "    ns = results[\"ns\"]\n",
    "    ds = results[\"ds\"]\n",
    "    rmt_mdl_comp = results[\"rmt_mdl_comp\"]\n",
    "    rmt_mdl_comp_2 = results[\"rmt_mdl_comp_2\"]\n",
    "    rmt_mdl_comp_3 = results[\"rmt_mdl_comp_3\"]\n",
    "\n",
    "\n",
    "    lss = ['-', '--', '-.', ':']\n",
    "    mss = ['s', 'd', 'o', '^']\n",
    "    n = ns[0]\n",
    "    gammas = ds/n\n",
    "\n",
    "    for i in range(1):\n",
    "#         plt.figure(figsize=[8, 6])\n",
    "\n",
    "#         plt.loglog(gammas, rmt_mdl_comp.mean(0)[i, :, 0, 0, 0],   color=cs[0], linestyle=lss[0], linewidth=4.,  marker=mss[0],  markersize=10, label=r'$d_\\star=%d, \\alpha=%.1f$'%(d0s[0], epows[0]))\n",
    "#         plt.loglog(gammas, rmt_mdl_comp.mean(0)[i, :, 0, 0, 1],   color=cs[1], linestyle=lss[1], linewidth=4.,  marker=mss[1],  markersize=10, label=r'$d_\\star=%d, \\alpha=%.1f$'%(d0s[0], epows[1]))\n",
    "#         plt.loglog(gammas, rmt_mdl_comp.mean(0)[i, :, 0, 1, 0],   color=cs[2], linestyle=lss[2], linewidth=4.,  marker=mss[2],  markersize=10, label=r'$d_\\star=%d, \\alpha=%.1f$'%(d0s[1], epows[0]))\n",
    "#         plt.loglog(gammas, rmt_mdl_comp.mean(0)[i, :, 0, 1, 1],   color=cs[3], linestyle=lss[3], linewidth=4.,  marker=mss[3],  markersize=10, label=r'$d_\\star=%d, \\alpha=%.1f$'%(d0s[1], epows[1]))\n",
    "\n",
    "#         plt.grid(True, alpha=0.5, linewidth=1.)\n",
    "#         plt.legend(frameon=False, fontsize=20) \n",
    "#         if ff==1:\n",
    "#             plt.ylim([5e-2, 5e0])\n",
    "#         plt.title(r'Behavior of MDL-COMP ($n=200$)', fontsize=20)\n",
    "#         plt.xlabel('d/n')\n",
    "#         plt.tight_layout()\n",
    "#         if save_fig:\n",
    "#             plt.savefig('fig3/decay_mdl_comp_norm_%d_n_%d_noise_std_%d.pdf'%((i+1)**2, n, noise_std))\n",
    "#         plt.show()\n",
    "\n",
    "        plt.figure(figsize=[8, 6])\n",
    "\n",
    "        plt.loglog(gammas, rmt_mdl_comp_2.mean(0)[i, :, 0, 0, 0],   color=cs[0], linestyle=lss[0], linewidth=4.,  marker=mss[0],  markersize=10, label=r'$d_\\star=%d, \\alpha=%.1f$'%(d0s[0], epows[0]))\n",
    "        plt.loglog(gammas, rmt_mdl_comp_2.mean(0)[i, :, 0, 0, 1],   color=cs[1], linestyle=lss[1], linewidth=4.,  marker=mss[1],  markersize=10, label=r'$d_\\star=%d, \\alpha=%.1f$'%(d0s[0], epows[1]))\n",
    "        plt.loglog(gammas, rmt_mdl_comp_2.mean(0)[i, :, 0, 1, 0],   color=cs[2], linestyle=lss[2], linewidth=4.,  marker=mss[2],  markersize=10, label=r'$d_\\star=%d, \\alpha=%.1f$'%(d0s[1], epows[0]))\n",
    "        plt.loglog(gammas, rmt_mdl_comp_2.mean(0)[i, :, 0, 1, 1],   color=cs[3], linestyle=lss[3], linewidth=4.,  marker=mss[3],  markersize=10, label=r'$d_\\star=%d, \\alpha=%.1f$'%(d0s[1], epows[1]))\n",
    "\n",
    "        plt.grid(True, alpha=0.5, linewidth=1.)\n",
    "        plt.legend(frameon=False, fontsize=20) \n",
    "        plt.xlabel('d/n')\n",
    "    #     plt.ylim([5e-2, 5e0])\n",
    "        plt.title(r'Behavior of MDL-COMP for different designs', fontsize=20)\n",
    "        plt.tight_layout()\n",
    "        if save_fig:\n",
    "            plt.savefig('fig3/decay_new_mdl_comp_norm_%d_n_%d_noise_std_%d.pdf'%((i+1)**2, n, noise_std))\n",
    "        plt.show()"
   ]
  },
  {
   "cell_type": "code",
   "execution_count": 57,
   "metadata": {},
   "outputs": [],
   "source": [
    "def loc_calc_thetahat(l):\n",
    "    inv = scl.pinv(X_train_d.T @ X_train_d + l * np.eye(d))\n",
    "#     inv = eigenvecs @ npl.pinv(np.eye(d) + np.diag(eigenvals)) @ eigenvecs.T\n",
    "    return inv @ X_train_d.T @ y_train_n\n",
    "\n",
    "def loc_mdl1_loss(l):\n",
    "    thetahat = loc_calc_thetahat(l)\n",
    "    mse_norm = npl.norm(y_train_n - X_train_d @ thetahat)**2 / (2 * var)\n",
    "    theta_norm = npl.norm(thetahat)**2 / (2 * var)\n",
    "    eigensum = 0.5 * np.sum(np.log((eigenvals + l) / l))\n",
    "    return (mse_norm + theta_norm + eigensum) / n\n",
    "\n",
    "\n",
    "def loc_mdl1_loss_ret_all(l):\n",
    "    thetahat = loc_calc_thetahat(l)\n",
    "    mse_norm = npl.norm(y_train_n - X_train_d @ thetahat)**2 / (2 * var)\n",
    "    theta_norm = npl.norm(thetahat)**2 / (2 * var)\n",
    "    eigensum = 0.5 * np.sum(np.log((eigenvals + l) / l))\n",
    "    return mse_norm/n , theta_norm/n,  eigensum / n\n",
    "\n",
    "def g(a, b):\n",
    "    val = np.sqrt(a*(1+np.sqrt(b))**2+1)\n",
    "    val -= np.sqrt(a*(1-np.sqrt(b))**2+1)\n",
    "    val = val**2\n",
    "    return(val/4)\n",
    "\n",
    "def thm3(gammas, snr):\n",
    "    delta = g(snr, gammas)\n",
    "    bnd = gammas * np.log(1+snr-delta)\n",
    "    bnd += np.log(1+gammas * snr - delta)\n",
    "    bnd -= delta/snr\n",
    "    return(bnd)"
   ]
  },
  {
   "cell_type": "code",
   "execution_count": 58,
   "metadata": {},
   "outputs": [
    {
     "ename": "KeyError",
     "evalue": "'eigsum'",
     "output_type": "error",
     "traceback": [
      "\u001b[0;31m---------------------------------------------------------------------------\u001b[0m",
      "\u001b[0;31mKeyError\u001b[0m                                  Traceback (most recent call last)",
      "\u001b[0;32m<ipython-input-58-7d83202ea20c>\u001b[0m in \u001b[0;36m<module>\u001b[0;34m\u001b[0m\n\u001b[1;32m      8\u001b[0m \u001b[0md0s\u001b[0m \u001b[0;34m=\u001b[0m \u001b[0mresults\u001b[0m\u001b[0;34m[\u001b[0m\u001b[0;34m\"d0s\"\u001b[0m\u001b[0;34m]\u001b[0m\u001b[0;34m\u001b[0m\u001b[0;34m\u001b[0m\u001b[0m\n\u001b[1;32m      9\u001b[0m \u001b[0mrmt_mdl_comp\u001b[0m \u001b[0;34m=\u001b[0m \u001b[0mresults\u001b[0m\u001b[0;34m[\u001b[0m\u001b[0;34m\"rmt_mdl_comp\"\u001b[0m\u001b[0;34m]\u001b[0m\u001b[0;34m\u001b[0m\u001b[0;34m\u001b[0m\u001b[0m\n\u001b[0;32m---> 10\u001b[0;31m \u001b[0meigsum\u001b[0m  \u001b[0;34m=\u001b[0m \u001b[0mresults\u001b[0m\u001b[0;34m[\u001b[0m\u001b[0;34m\"eigsum\"\u001b[0m\u001b[0;34m]\u001b[0m\u001b[0;34m\u001b[0m\u001b[0;34m\u001b[0m\u001b[0m\n\u001b[0m\u001b[1;32m     11\u001b[0m \u001b[0mn\u001b[0m \u001b[0;34m=\u001b[0m \u001b[0mns\u001b[0m\u001b[0;34m[\u001b[0m\u001b[0;36m0\u001b[0m\u001b[0;34m]\u001b[0m\u001b[0;34m\u001b[0m\u001b[0;34m\u001b[0m\u001b[0m\n\u001b[1;32m     12\u001b[0m \u001b[0mgammas\u001b[0m \u001b[0;34m=\u001b[0m \u001b[0mds\u001b[0m\u001b[0;34m/\u001b[0m\u001b[0mn\u001b[0m\u001b[0;34m\u001b[0m\u001b[0;34m\u001b[0m\u001b[0m\n",
      "\u001b[0;31mKeyError\u001b[0m: 'eigsum'"
     ]
    }
   ],
   "source": [
    "results = pickle.load(open('prac_mdl_n_200_noise_0.txt', 'rb'))\n",
    "\n",
    "# results = pickle.load(open('prac_mdl_n_%d_noise_%d.txt'%(ns[0], noise_std), 'rb'))\n",
    "save_fig = False\n",
    "\n",
    "ds = results[\"ds\"]\n",
    "ns = results[\"ns\"]\n",
    "d0s = results[\"d0s\"]\n",
    "rmt_mdl_comp = results[\"rmt_mdl_comp\"]\n",
    "eigsum  = results[\"eigsum\"]\n",
    "n = ns[0]\n",
    "gammas = ds/n\n",
    "\n",
    "lss = ['-', '--', '-.', ':']\n",
    "mss = ['s', 'd', 'o', '^']\n",
    "\n",
    "for i in range(1):\n",
    "    for l, d0 in enumerate(d0s):\n",
    "        plt.figure(figsize=[8, 6])\n",
    "\n",
    "        plt.loglog(gammas, rmt_mdl_comp.mean(0)[i, :, 0, l, 0],   color=cs[0], linestyle=lss[0], linewidth=4.,  marker=mss[0],  markersize=10, label='MDL-COMP (Thm1)')\n",
    "        plt.loglog(gammas, thm3(gammas, np.minimum(d0,ds)/ds),  color=cs[1], linestyle=lss[1], linewidth=4.,  marker=mss[1], markersize=10, label='MDL-COMP (Thm2)')\n",
    "        plt.loglog(gammas, eigsum.mean(0)[i, :, 0, l, 0], color=cs[2], linestyle=lss[2], linewidth=4.,  marker=mss[2], markersize=10, label= 'Prac-MDL-COMP (Eigensum)')\n",
    "        plt.grid(True, alpha=0.5, linewidth=1.)\n",
    "#         plt.ylim([1e-3, 8e-1])\n",
    "        plt.legend(frameon=False, fontsize=20) \n",
    "        plt.title(r'Different MDL-COMP ($n=%d, d_\\star=%d$)'%(ns[0], d0), fontsize=20)\n",
    "        plt.xlabel('d/n')\n",
    "        plt.tight_layout()\n",
    "        if save_fig:\n",
    "            plt.savefig('fig3/prac_mdl_comp_norm_%d_n_%d_noise_%d_d0_%d.pdf'%((i+1)**2, n, noise_std, d0))\n",
    "        plt.show()"
   ]
  },
  {
   "cell_type": "code",
   "execution_count": null,
   "metadata": {},
   "outputs": [],
   "source": []
  }
 ],
 "metadata": {
  "anaconda-cloud": {},
  "kernelspec": {
   "display_name": "Python 3.8",
   "language": "python",
   "name": "python3"
  },
  "language_info": {
   "codemirror_mode": {
    "name": "ipython",
    "version": 3
   },
   "file_extension": ".py",
   "mimetype": "text/x-python",
   "name": "python",
   "nbconvert_exporter": "python",
   "pygments_lexer": "ipython3",
   "version": "3.8.3"
  }
 },
 "nbformat": 4,
 "nbformat_minor": 4
}
