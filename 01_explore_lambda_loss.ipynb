{
 "cells": [
  {
   "cell_type": "code",
   "execution_count": 2,
   "metadata": {},
   "outputs": [],
   "source": [
    "import os\n",
    "from os.path import join as oj\n",
    "import sys, time\n",
    "sys.path.insert(1, oj(sys.path[0], '..'))  # insert parent path\n",
    "import seaborn as sns\n",
    "from sklearn.model_selection import train_test_split\n",
    "import numpy as np\n",
    "import matplotlib.pyplot as plt\n",
    "import pmlb\n",
    "from tqdm import tqdm\n",
    "from copy import deepcopy\n",
    "import pickle as pkl\n",
    "import pandas as pd\n",
    "import data\n",
    "import numpy.linalg as npl\n",
    "from scipy.optimize import minimize\n",
    "\n",
    "%matplotlib inline\n",
    "%load_ext autoreload\n",
    "%autoreload 2\n",
    "\n",
    "save_dir = 'results'\n",
    "os.makedirs(save_dir, exist_ok=True)"
   ]
  },
  {
   "cell_type": "code",
   "execution_count": 3,
   "metadata": {},
   "outputs": [],
   "source": [
    "class p:\n",
    "    seed = 15\n",
    "    out_dir = '/scratch/users/vision/yu_dl/raaz.rsk/double_descent/test'\n",
    "    dset = 'gaussian' # gaussian\n",
    "    beta_type = 'gaussian' # one_hot\n",
    "    beta_norm = 1\n",
    "    iid = 'iid' # 'iid', 'clustered', 'spike', decay, mult_decay\n",
    "    dset_num = 1 # only matters for pmlb\n",
    "    dset_name = ''\n",
    "    reg_param = -1.0 # -1 use csv\n",
    "    num_features = 100\n",
    "    n_train_over_num_features = 3 # this and num_features sets n_train\n",
    "    n_test = 100\n",
    "    noise_std = 1\n",
    "    noise_distr = 'gaussian' # gaussian, t, gaussian_scale_var, thresh\n",
    "    model_type = 'ridge' # mdl_orig, \n",
    "    cov_param = 2"
   ]
  },
  {
   "cell_type": "markdown",
   "metadata": {},
   "source": [
    "# vary lambda"
   ]
  },
  {
   "cell_type": "code",
   "execution_count": 4,
   "metadata": {},
   "outputs": [],
   "source": [
    "from matplotlib.ticker import (MultipleLocator, FormatStrFormatter,\n",
    "                               AutoMinorLocator, NullFormatter)"
   ]
  },
  {
   "cell_type": "code",
   "execution_count": 20,
   "metadata": {},
   "outputs": [
    {
     "name": "stderr",
     "output_type": "stream",
     "text": [
      "3it [00:02,  1.12it/s]\n"
     ]
    },
    {
     "data": {
      "image/png": "[encoded data removed]",
      "text/plain": [
       "<Figure size 864x216 with 3 Axes>"
      ]
     },
     "metadata": {
      "needs_background": "light"
     },
     "output_type": "display_data"
    }
   ],
   "source": [
    "top_or_bot = 'top'\n",
    "tits = ['1/10', '1/2', '1', '2', '10']\n",
    "if top_or_bot == 'top':\n",
    "    R, C = 1, 3\n",
    "    ratios = [10, 2, 1]\n",
    "    plt.figure(figsize=(12, 3))\n",
    "    lets = ['A', 'B', 'C']\n",
    "else:\n",
    "    R, C = 1, 2\n",
    "    ratios = [1/2, 1/10]\n",
    "    plt.figure(figsize=(8, 3))\n",
    "    lets = ['D', 'E']\n",
    "for c, n_train_over_num_features in tqdm(enumerate(ratios)): #, 1/2, 1/10])):\n",
    "    p.n_train_over_num_features = n_train_over_num_features\n",
    "    \n",
    "    # warning - this reseeds!\n",
    "    p.n_train = int(p.n_train_over_num_features * p.num_features)\n",
    "    X_train, y_train, X_test, y_test, betastar = \\\n",
    "        data.get_data_train_test(n_train=p.n_train, n_test=p.n_test, p=p.num_features, \n",
    "                            noise_std=p.noise_std, noise_distr=p.noise_distr, iid=p.iid, # parameters to be determined\n",
    "                            beta_type=p.beta_type, beta_norm=p.beta_norm, \n",
    "                            seed_for_training_data=p.seed, cov_param=p.cov_param)\n",
    "\n",
    "    eigenvals, eigenvecs = npl.eig(X_train.T @ X_train)\n",
    "    var = p.noise_std**2\n",
    "\n",
    "    def calc_thetahat(l):\n",
    "        inv = npl.pinv(X_train.T @ X_train + l * np.eye(p.num_features))\n",
    "        return inv @ X_train.T @ y_train\n",
    "\n",
    "    def mdl1_loss(l):\n",
    "        thetahat = calc_thetahat(l)\n",
    "        mse_norm = npl.norm(y_train - X_train @ thetahat)**2 / (2 * var)\n",
    "        theta_norm = npl.norm(thetahat)**2 / (2 * var)\n",
    "        eigensum = 0.5 * np.sum(np.log((eigenvals + l) / l))\n",
    "        return (mse_norm + theta_norm + eigensum) / y_train.size\n",
    "\n",
    "\n",
    "    lambdas = np.logspace(-10, 10, num=100)\n",
    "    n = lambdas.size\n",
    "\n",
    "\n",
    "    r = {\n",
    "        'l': lambdas,\n",
    "        'mdl1': np.zeros(n),\n",
    "        'test_mse': np.zeros(n)\n",
    "    }\n",
    "    for i, l in enumerate(lambdas):\n",
    "        thetahat = calc_thetahat(l)\n",
    "        r['test_mse'][i] = np.mean(np.square(y_test - X_test @ thetahat))\n",
    "        r['mdl1'][i] = mdl1_loss(l)\n",
    "    ax = plt.subplot(R, C, c + 1)\n",
    "    plt.plot(r['mdl1'], r['test_mse'], '.-')\n",
    "\n",
    "    plt.tight_layout()\n",
    "\n",
    "    if c == 0:\n",
    "        plt.ylabel('Test MSE (Log-scale)')\n",
    "      \n",
    "    plt.xscale('log')\n",
    "    plt.yscale('log')\n",
    "    plt.grid(which='major', axis='x')      \n",
    "    plt.grid(which='both', axis='y')    \n",
    "#     plt.grid(which='major', axis='y')    \n",
    "    \n",
    "    ax.yaxis.set_minor_formatter(NullFormatter())\n",
    "\n",
    "    ax.spines['right'].set_visible(False)\n",
    "    ax.spines['top'].set_visible(False)\n",
    "    \n",
    "    if n_train_over_num_features == 10:\n",
    "        plt.yticks([0.8, 1, 1.5], labels=['0.8', '1', '1.5'])    \n",
    "    if n_train_over_num_features == 2:\n",
    "        plt.yticks([1, 2], labels=['1', '2'])  \n",
    "    if n_train_over_num_features == 1:\n",
    "        plt.grid(which='minor', axis='y')    \n",
    "    elif n_train_over_num_features == 1/2:\n",
    "        plt.yticks([1.4, 1.75], labels=['1.4', '1.75'])\n",
    "    elif n_train_over_num_features == 1/10:\n",
    "        plt.yticks([1.55, 1.59], labels=['1.55', '1.59'])\n",
    "    plt.xlabel('MDL-COMP Objective')\n",
    "    plt.title('$d/n$ = ' + tits[c])\n",
    "    plt.title(lets[c], loc='left', fontweight='bold')\n",
    "\n",
    "# plt.savefig(oj(save_dir, 'fig_lambda_top.pdf'))\n",
    "plt.savefig(oj(save_dir, f'fig_lambda_{top_or_bot}.pdf'))"
   ]
  },
  {
   "cell_type": "code",
   "execution_count": null,
   "metadata": {},
   "outputs": [],
   "source": []
  }
 ],
 "metadata": {
  "anaconda-cloud": {},
  "kernelspec": {
   "display_name": "Python 3",
   "language": "python",
   "name": "python3"
  },
  "language_info": {
   "codemirror_mode": {
    "name": "ipython",
    "version": 3
   },
   "file_extension": ".py",
   "mimetype": "text/x-python",
   "name": "python",
   "nbconvert_exporter": "python",
   "pygments_lexer": "ipython3",
   "version": "3.7.5"
  }
 },
 "nbformat": 4,
 "nbformat_minor": 4
}
