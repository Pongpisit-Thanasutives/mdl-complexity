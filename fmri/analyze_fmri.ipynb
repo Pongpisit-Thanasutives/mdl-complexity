{
 "cells": [
  {
   "cell_type": "code",
   "execution_count": null,
   "metadata": {},
   "outputs": [],
   "source": [
    "import requests\n",
    "from tqdm import tqdm\n",
    "from os.path import join as oj\n",
    "import numpy\n",
    "import matplotlib.pyplot as plt\n",
    "import numpy as np\n",
    "from scipy import ndimage as ndi\n",
    "from skimage import data\n",
    "import pickle as pkl\n",
    "import os\n",
    "from skimage.util import img_as_float\n",
    "import pandas as pd\n",
    "from mpl_toolkits.mplot3d import Axes3D  # noqa: F401 unused import\n",
    "# plt.style.use('dark_background')\n",
    "# from run import *\n",
    "out_dir = '/scratch/users/vision/data/gallant/vim_2_crcns'\n",
    "# dec1_2 didn't normalize sigmas, dec1_3 did, dec1_4 adds all test accs\n",
    "# dec1_6 sets variance to 0.1\n",
    "# dec1_6 sets variance to 1 (best)\n",
    "# dec2_small_1 runs using smaller data (720 points instead of 7200)\n",
    "save_dir = oj(out_dir, 'dec14_baselines_ard') \n",
    "reg_params = np.logspace(3, 6, 20).round().astype(int)\n",
    "\n",
    "# load fits\n",
    "rois = ['v1lh', 'v1rh', 'v2lh', 'v2rh', 'v4lh', 'v4rh']\n",
    "fnames = sorted([fname for fname in os.listdir(save_dir)])\n",
    "# print('fnames', fnames)\n",
    "results_list = [pd.Series(pkl.load(open(oj(save_dir, fname), \"rb\"))) for fname in tqdm(fnames)]\n",
    "results = pd.concat(results_list, axis=1).T.infer_objects()\n",
    "# print('results', results.keys())\n",
    "results['region'] = results['roi'].str.slice(0, 2)\n",
    "r = results.drop('model', axis=1) # drop model to speed things up\n",
    "r = results\n",
    "r.keys()\n",
    "cb = '#1f77b4'\n",
    "# print('are largest/smallest lambdas being selected?', np.unique(r['lambda_best'], return_counts=True))\n",
    "\n",
    "# add some extra keys\n",
    "lambdas = np.logspace(3, 6, 20).round().astype(int) # reg values to try (must match preprocess_fmri)\n",
    "lambda_map = {\n",
    "    lambdas[i]: i for i in range(lambdas.size)\n",
    "}\n",
    "r['lambda_best_idx'] = r['lambda_best'].map(lambda_map)\n",
    "r['mse_norm'] = [r['mse_norms'].iloc[i][r['lambda_best_idx'].iloc[i]] for i in range(r.shape[0])]\n",
    "r['eigensum'] = [r['eigensums'].iloc[i][r['lambda_best_idx'].iloc[i]] for i in range(r.shape[0])]\n",
    "r['theta_norm'] = [r['theta_norms'].iloc[i][r['lambda_best_idx'].iloc[i]] for i in range(r.shape[0])]\n",
    "\n",
    "\n",
    "# save\n",
    "rs = r\n",
    "for column in r.columns:\n",
    "    if not np.isscalar(r[column].iloc[0]):\n",
    "        rs = rs.drop(column, axis=1)\n",
    "rs.to_pickle('../reports/fmri_results_aggregated.pkl')"
   ]
  },
  {
   "cell_type": "code",
   "execution_count": null,
   "metadata": {},
   "outputs": [],
   "source": [
    "np.sort(list(r.keys()))"
   ]
  },
  {
   "attachments": {},
   "cell_type": "markdown",
   "metadata": {},
   "source": [
    "**main fig**"
   ]
  },
  {
   "cell_type": "code",
   "execution_count": null,
   "metadata": {},
   "outputs": [],
   "source": [
    "R, C = 1, 3\n",
    "plt.figure(figsize=(10, 3.5))\n",
    "\n",
    "plt.subplot(R, C, 1)\n",
    "plt.plot(r['ard_mse'], r['mse_test_mdl'],  '.')\n",
    "plt.plot([0.95, 1.7], [0.95, 1.7], color='gray', linestyle='--')\n",
    "plt.xlim([0.95, 1.7])\n",
    "plt.ylim([0.95, 1.7])\n",
    "plt.ylabel('Test MSE (Prac-MDL-COMP)')\n",
    "plt.xlabel('Test MSE (Ridge-ARD)')\n",
    "plt.grid()\n",
    "plt.title('A', loc='left', fontweight='bold')\n",
    "\n",
    "plt.subplot(R, C, 2)\n",
    "plt.plot(r['mse_test'], r['mse_test_mdl'], '.')\n",
    "plt.plot([0.95, 1.2], [0.95, 1.2], color='gray', linestyle='--')\n",
    "plt.xlim([0.95, 1.2])\n",
    "plt.ylabel('Test MSE (Prac-MDL-COMP)')\n",
    "plt.xlabel('Test MSE (Ridge-CV)')\n",
    "plt.grid()\n",
    "plt.title('B', loc='left', fontweight='bold')\n",
    "\n",
    "plt.subplot(R, C, 3)\n",
    "for i in range(8): #min(5, r.shape[0])): #r.shape[0]):\n",
    "    row = r.iloc[i]\n",
    "    plt.plot(row['mdl_comps'], row['mse_tests'], '-', ms=1, label=str(i), color='gray')\n",
    "    plt.xlabel('Prac-MDL-COMP Objective')\n",
    "    plt.ylabel('Test MSE')\n",
    "x = np.vstack(r['mdl_comps'].values).mean(axis=0)\n",
    "y = np.vstack(r['mse_tests'].values).mean(axis=0)\n",
    "plt.plot(x, y, color=cb, lw=4)\n",
    "plt.text(x[0] + 0.005, y[0], s='Mean', fontsize=14, color=cb)\n",
    "plt.title('C', loc='left', fontweight='bold')\n",
    "plt.tight_layout()\n",
    "# plt.savefig('../reports/fig_fmri_results.pdf')\n",
    "plt.show()"
   ]
  },
  {
   "attachments": {},
   "cell_type": "markdown",
   "metadata": {},
   "source": [
    "**add bic fig**"
   ]
  },
  {
   "cell_type": "code",
   "execution_count": null,
   "metadata": {},
   "outputs": [],
   "source": [
    "# load bic\n",
    "save_dir_bic = oj(out_dir, 'jun7_baselines_bic')\n",
    "fnames = sorted([fname for fname in os.listdir(save_dir_bic)])\n",
    "results_list = [pd.Series(pkl.load(open(oj(save_dir_bic, fname), \"rb\"))) for fname in tqdm(fnames)]\n",
    "results = pd.concat(results_list, axis=1).T.infer_objects()\n",
    "\n",
    "# merge bic results\n",
    "r_merge = r[['mse_test', 'mse_test_mdl', 'idx']]\n",
    "merged = pd.merge(r_merge, results, on='idx')\n",
    "plt.plot(merged['bic_mse'], merged['mse_test_mdl'], '.')\n",
    "plt.plot([0.95, 1.2], [0.95, 1.2], color='gray', linestyle='--')\n",
    "plt.ylabel('Test MSE (Prac-MDL-COMP)')\n",
    "plt.xlabel('Test MSE (Ridge-CV)')\n",
    "plt.grid()"
   ]
  },
  {
   "attachments": {},
   "cell_type": "markdown",
   "metadata": {},
   "source": [
    "# check performance"
   ]
  },
  {
   "cell_type": "code",
   "execution_count": null,
   "metadata": {},
   "outputs": [],
   "source": [
    "R, C = 1, 2\n",
    "plt.subplot(R, C, 1)\n",
    "plt.xlabel('Test corr')\n",
    "plt.ylabel('Count')\n",
    "plt.hist(r['corr_test']) #, bins=100)\n",
    "\n",
    "plt.subplot(R, C, 2)\n",
    "lambdas, counts = np.unique(r.lambda_best, return_counts=True)\n",
    "# plt.bar(np.arange(counts.size), counts) #, 'o-')\n",
    "plt.plot(lambdas, counts, 'o-', label='CV')\n",
    "# plt.xticks(np.arange(counts.size), labels=lambdas)\n",
    "# ax.ticklabel_format(axis='both', style='sci')\n",
    "\n",
    "plt.ylabel('Count')\n",
    "plt.xlabel('Lambda_best_CV')\n",
    "plt.xscale('log')\n",
    "\n",
    "# plt.subplot(R, C, 3)\n",
    "lambdas, counts = np.unique(r.lambda_opt, return_counts=True)\n",
    "plt.plot(lambdas, counts, 'o-', label='MDL-COMP')\n",
    "plt.ylabel('Count')\n",
    "plt.xlabel('Lambda_best_MDL')\n",
    "plt.xscale('log')\n",
    "plt.legend()\n",
    "plt.tight_layout()\n",
    "plt.show()"
   ]
  },
  {
   "attachments": {},
   "cell_type": "markdown",
   "metadata": {},
   "source": [
    "# evaluate complexity"
   ]
  },
  {
   "attachments": {},
   "cell_type": "markdown",
   "metadata": {},
   "source": [
    "**scatter plots**"
   ]
  },
  {
   "cell_type": "code",
   "execution_count": null,
   "metadata": {},
   "outputs": [],
   "source": [
    "print(np.corrcoef(r['eigensum'], r['mse_test']))\n",
    "print(np.corrcoef(r['eigensum'], r['corr_test']))\n",
    "print(np.corrcoef(r['mse_train'], r['mse_test']))\n",
    "print(np.corrcoef(r['theta_norm'], r['mse_test']))"
   ]
  },
  {
   "cell_type": "code",
   "execution_count": null,
   "metadata": {},
   "outputs": [],
   "source": [
    "N = 5\n",
    "f, axes = plt.subplots(1, N, figsize=(3 * N, 3), dpi=250)\n",
    "i = -1 \n",
    "ax = axes[i + 1]\n",
    "# ax.plot(r['mdl_comp_opt'], r['mse_test'], '.')\n",
    "ax.plot(r['eigensum']/1000., r['eigensum'], '.')\n",
    "# ax.set_xscale('log')\n",
    "ax.set_xlabel('Eigensum')\n",
    "\n",
    "ax.set_ylabel('MSE (test)')\n",
    "i += 1\n",
    "\n",
    "ax = axes[i + 1]\n",
    "# ax.plot(r['mdl_comp_opt'], r['corr_test'], '.')\n",
    "ax.plot(r['eigensum']/1000., r['corr_test'], '.')\n",
    "ax.set_xlabel('Eigensum')\n",
    "ax.set_ylabel('Corr (test)')\n",
    "i += 1\n",
    "\n",
    "ax = axes[i + 1]\n",
    "ax.plot(r['mdl_comp_opt'], r['mse_train'], '.', alpha=0.9)\n",
    "ax.set_xlabel('Prac-MDL-COMP')\n",
    "ax.set_ylabel('MSE (train)')\n",
    "i += 1\n",
    "\n",
    "ax = axes[i + 1]\n",
    "ax.plot(r['mse_test_mdl'], r['mse_test'], '.')\n",
    "ax.plot([0.95, 1.2], [0.95, 1.2])\n",
    "ax.set_xlabel('Test MSE (MDL-selection)')\n",
    "ax.set_ylabel('Test MSE (CV-selection)')\n",
    "i += 1\n",
    "\n",
    "ax = axes[i + 1]\n",
    "ax.plot(r['mse_test_mdl'], r['ard_mse'], '.')\n",
    "ax.plot([0.95, 1.2], [0.95, 1.2])\n",
    "ax.set_xlabel('Test MSE (MDL-selection)')\n",
    "ax.set_ylabel('Test MSE (ARD-selection)')\n",
    "i += 1\n",
    "\n",
    "plt.suptitle('')\n",
    "plt.tight_layout()\n",
    "plt.show()"
   ]
  },
  {
   "attachments": {},
   "cell_type": "markdown",
   "metadata": {},
   "source": [
    "**boxplots for different regions**"
   ]
  },
  {
   "cell_type": "code",
   "execution_count": null,
   "metadata": {},
   "outputs": [],
   "source": [
    "cols = ['mse_test', 'corr_test', 'mdl_comp_opt', 'eigensum', 'theta_norm', 'mse_norm'] #, 'complexity1', 'complexity2', 'mse_train']\n",
    "f, axes = plt.subplots(1, len(cols), figsize=(3 * len(cols), 3), dpi=250)\n",
    "axes = axes.flatten()\n",
    "for i, col in enumerate(cols):\n",
    "    # plt.subplot(R, C, 1)\n",
    "    r.boxplot(by='region', column=col, ax=axes[i], grid=False)\n",
    "plt.suptitle('')\n",
    "plt.tight_layout()\n",
    "plt.show()"
   ]
  },
  {
   "attachments": {},
   "cell_type": "markdown",
   "metadata": {},
   "source": [
    "# evaluate complexity curves"
   ]
  },
  {
   "cell_type": "code",
   "execution_count": null,
   "metadata": {},
   "outputs": [],
   "source": [
    "for i in range(50):#r.shape[0]):\n",
    "    plt.plot(reg_params, r.iloc[i]['mdl_comps'], 'o-', ms=1, color='gray')\n",
    "    plt.ylabel('MDL-COMP')\n",
    "plt.xscale('log')"
   ]
  },
  {
   "cell_type": "code",
   "execution_count": null,
   "metadata": {},
   "outputs": [],
   "source": [
    "R, C = 1, 2\n",
    "plt.figure(dpi=200)\n",
    "for i in range(r.shape[0]): #min(5, r.shape[0])): #r.shape[0]):\n",
    "    row = r.iloc[i]\n",
    "    plt.subplot(R, C, 1)\n",
    "    plt.plot(row['mdl_comps'], row['mse_tests'], 'o-', ms=1)\n",
    "    plt.xlabel('MDL-COMP')\n",
    "    plt.ylabel('MSE Test')\n",
    "    \n",
    "    plt.subplot(R, C, 2)\n",
    "    plt.plot(row['cv_values'].mean(axis=0), row['mse_tests'], 'o-', ms=1)\n",
    "    plt.xlabel('MSE CV')\n",
    "    plt.ylabel('MSE Test')\n",
    "\n",
    "plt.subplot(R, C, 1)    \n",
    "plt.text(np.max(row['mdl_comps']) * 0.8, 1.1, 'Increasing\\nregularization\\nis lower\\non the curve', )\n",
    "plt.tight_layout()"
   ]
  },
  {
   "attachments": {},
   "cell_type": "markdown",
   "metadata": {},
   "source": [
    "# plots for paper"
   ]
  },
  {
   "cell_type": "code",
   "execution_count": null,
   "metadata": {},
   "outputs": [],
   "source": [
    "import matplotlib as mpl\n",
    "label_size = 20\n",
    "mpl.rcParams['xtick.labelsize'] = label_size \n",
    "mpl.rcParams['ytick.labelsize'] = label_size \n",
    "mpl.rcParams['axes.labelsize'] = label_size\n",
    "mpl.rcParams['axes.titlesize'] = 14\n",
    "mpl.rcParams['figure.titlesize'] = 10\n",
    "# mpl.rcParams['lines.markersize'] = 8\n",
    "mpl.rcParams['grid.linewidth'] = 2.5\n",
    "mpl.rcParams['legend.fontsize'] = 20\n",
    "# pylab.rcParams['xtick.major.pad']=5\n",
    "# pylab.rcParams['ytick.major.pad']=5\n",
    "cs=sns.color_palette()\n",
    "lss = ['-', '--', '-.', ':']\n",
    "mss = ['s', 'd', 'o', '^']"
   ]
  },
  {
   "cell_type": "code",
   "execution_count": null,
   "metadata": {},
   "outputs": [],
   "source": [
    "# import statsmodels.api as sm\n",
    "# X = sm.add_constant(r['eigensum']/720)\n",
    "# y = r['mse_test']\n",
    "# model = sm.OLS(y, X).fit()\n",
    "# model.params[1]"
   ]
  },
  {
   "cell_type": "code",
   "execution_count": null,
   "metadata": {},
   "outputs": [],
   "source": [
    "save_fig = True\n",
    "axes = plt.subplots(1, 1,sharey=True, figsize=[8, 6], )\n",
    "ax = axes[1]#[0]\n",
    "ax.scatter(r['eigensum']/720, r['mse_test'],   color=cs[0], marker='o',  s=40)\n",
    "ax.grid(True, alpha=0.5, linewidth=1.)\n",
    "ax.set_xlabel('Eigensum (Prac-MDL-COMP)')\n",
    "# ax.set_title('A', loc='left', fontsize=20, fontweight='bold')\n",
    "ax.spines[\"top\"].set_visible(False)\n",
    "ax.spines[\"right\"].set_visible(False)\n",
    "ax.set_ylabel(\"Test MSE\")\n",
    "# ax = axes[1][1]\n",
    "# ax.scatter(r['mdl_comp_opt'], r['mse_test'],   color=cs[0], marker='o',  s=40)\n",
    "# ax.grid(True, alpha=0.5, linewidth=1.)\n",
    "# ax.set_xlabel('Eigensum (Prac-MDL-COMP)')\n",
    "# ax.set_title('A', loc='left', fontsize=20, fontweight='bold')\n",
    "# ax.spines[\"top\"].set_visible(False)\n",
    "# ax.spines[\"right\"].set_visible(False)\n",
    "\n",
    "if save_fig:\n",
    "    plt.savefig('../fig3/fmri_eigensum_mse.pdf')\n",
    "plt.show()\n"
   ]
  },
  {
   "attachments": {},
   "cell_type": "markdown",
   "metadata": {},
   "source": [
    "# basic voxel viz"
   ]
  },
  {
   "cell_type": "code",
   "execution_count": null,
   "metadata": {},
   "outputs": [],
   "source": [
    "idxs = r.idx.values\n",
    "vals = r.mdl_comp_opt\n",
    "vol = np.zeros(73728) * np.nan\n",
    "vol[idxs] = vals\n",
    "vol = vol.reshape(18, 64, 64)\n",
    "vol = vol.transpose()"
   ]
  },
  {
   "cell_type": "code",
   "execution_count": null,
   "metadata": {},
   "outputs": [],
   "source": [
    "print(vol.shape, np.nansum(vol), np.nansum(np.nansum(vol, axis=0), axis=0), np.nanmin(vol), np.nanmax(vol))"
   ]
  },
  {
   "cell_type": "code",
   "execution_count": null,
   "metadata": {},
   "outputs": [],
   "source": [
    "R, C = 1, 8\n",
    "plt.figure(figsize=(C * 2, R * 2), dpi=200)\n",
    "vmin = np.nanmin(vol)\n",
    "vmax = np.nanmax(vol)\n",
    "for i in range(8):\n",
    "    plt.subplot(R, C, i + 1)\n",
    "    NUM = 7\n",
    "    plt.imshow(vol[NUM: -NUM, NUM: -NUM, i]) #, vmin=vmin, vmax=vmax)\n",
    "    plt.yticks([])\n",
    "    plt.xticks([])\n",
    "plt.colorbar()\n",
    "plt.tight_layout()\n",
    "plt.show()\n",
    "# plt.imshow(vol[:, :, 15])"
   ]
  },
  {
   "cell_type": "code",
   "execution_count": null,
   "metadata": {},
   "outputs": [],
   "source": [
    "voxels = ~np.isnan(vol)\n",
    "colors = vol\n",
    "colors = (colors - np.nanmin(colors)) / (np.nanmax(colors) - np.nanmin(colors))\n",
    "s = colors.shape\n",
    "colors = colors.reshape((s[0], s[1], s[2], 1))\n",
    "colors = colors.repeat(axis=-1, repeats=3)\n",
    "colors[..., 1:] = 0\n",
    "print(colors.shape)\n",
    "\n",
    "# and plot everything\n",
    "fig = plt.figure()\n",
    "ax = fig.gca(projection='3d')\n",
    "ax.voxels(voxels, facecolors=colors) #, edgecolor='k')\n",
    "\n",
    "plt.show()"
   ]
  },
  {
   "attachments": {},
   "cell_type": "markdown",
   "metadata": {},
   "source": [
    "# pycortex"
   ]
  },
  {
   "attachments": {},
   "cell_type": "markdown",
   "metadata": {},
   "source": [
    "- install pycortex by cloning and running python setup.py install\n",
    "- the config file is located at `cortex.options.usercfg`\n",
    "    - edit this file to change the default_filestore to cortex installation filestore/db folder\n",
    "    - also edit it to change the colormaps to cortex installation filestore/colormaps folder\n",
    "- install fsl: https://fsl.fmrib.ox.ac.uk/fsl/fslwiki/FSL\n",
    "    - edit fsl_prefix in the config file based on what was installed\n",
    "- need to make sure fsl can run properly: https://fsl.fmrib.ox.ac.uk/fsl/fslwiki/FslInstallation/ShellSetup"
   ]
  },
  {
   "cell_type": "code",
   "execution_count": null,
   "metadata": {},
   "outputs": [],
   "source": [
    "import nibabel as nib\n",
    "import cortex\n",
    "# from cortex import surfs\n",
    "\n",
    "'''\n",
    "img = nib.load(anat_file)\n",
    "im_np = np.array(img.get_fdata())\n",
    "im_np.shape\n",
    "\n",
    "anat_file = oj(out_dir, 'anatomy/S1_anatomy.nii')\n",
    "ret_file = 'S1_retinotopy.hdf'\n",
    "ds = cortex.load(ret_file)\n",
    "'''"
   ]
  },
  {
   "cell_type": "code",
   "execution_count": null,
   "metadata": {},
   "outputs": [],
   "source": [
    "cortex.options.usercfg"
   ]
  },
  {
   "cell_type": "code",
   "execution_count": null,
   "metadata": {},
   "outputs": [],
   "source": [
    "cortex.align.automatic('S1', 'example-transform', '../data/anatomy/S1_anatomy.nii')"
   ]
  },
  {
   "cell_type": "code",
   "execution_count": null,
   "metadata": {},
   "outputs": [],
   "source": [
    "m = cortex.quickshow((np.random.randn(31, 100, 100), \"S1\", \"fullhead\"))"
   ]
  },
  {
   "attachments": {},
   "cell_type": "markdown",
   "metadata": {},
   "source": [
    "# nilearn plotting"
   ]
  },
  {
   "cell_type": "code",
   "execution_count": null,
   "metadata": {},
   "outputs": [],
   "source": [
    "x = np.random.randn(64, 64, 18)"
   ]
  },
  {
   "cell_type": "code",
   "execution_count": null,
   "metadata": {},
   "outputs": [],
   "source": [
    "from nilearn import plotting, datasets"
   ]
  },
  {
   "cell_type": "code",
   "execution_count": null,
   "metadata": {},
   "outputs": [],
   "source": [
    "plotting.plot_glass_brain(None) #, annotate=False, black_bg=True)"
   ]
  },
  {
   "cell_type": "code",
   "execution_count": null,
   "metadata": {},
   "outputs": [],
   "source": [
    "plotting.plot_glass_brain(anat_file, annotate=False, black_bg=True)"
   ]
  },
  {
   "cell_type": "code",
   "execution_count": null,
   "metadata": {},
   "outputs": [],
   "source": [
    "motor_images = datasets.fetch_neurovault_motor_task()\n",
    "stat_img = motor_images.images[0]\n",
    "# stat_img is just the name of the file that we downloded\n",
    "stat_img"
   ]
  }
 ],
 "metadata": {
  "kernelspec": {
   "display_name": "Python 3.8",
   "language": "python",
   "name": "python3"
  },
  "language_info": {
   "codemirror_mode": {
    "name": "ipython",
    "version": 3
   },
   "file_extension": ".py",
   "mimetype": "text/x-python",
   "name": "python",
   "nbconvert_exporter": "python",
   "pygments_lexer": "ipython3",
   "version": "3.8.12"
  }
 },
 "nbformat": 4,
 "nbformat_minor": 4
}
