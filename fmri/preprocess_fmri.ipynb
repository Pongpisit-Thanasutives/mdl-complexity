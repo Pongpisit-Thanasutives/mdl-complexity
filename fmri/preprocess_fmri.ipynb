{
 "cells": [
  {
   "cell_type": "code",
   "execution_count": 11,
   "metadata": {},
   "outputs": [],
   "source": [
    "import requests\n",
    "from tqdm import tqdm\n",
    "from os.path import join as oj\n",
    "import tables, numpy\n",
    "import matplotlib.pyplot as plt\n",
    "import numpy as np\n",
    "from scipy import ndimage as ndi\n",
    "from skimage import data\n",
    "import pickle as pkl\n",
    "from skimage.util import img_as_float\n",
    "from sklearn import metrics\n",
    "import h5py\n",
    "from copy import deepcopy\n",
    "from skimage.filters import gabor_kernel\n",
    "import gabor_feats\n",
    "from sklearn.linear_model import RidgeCV\n",
    "import seaborn as sns\n",
    "from scipy.io import loadmat\n",
    "import numpy.linalg as npl\n",
    "out_dir = '/scratch/users/vision/data/gallant/vim_2_crcns'\n",
    "from run import *"
   ]
  },
  {
   "cell_type": "code",
   "execution_count": 2,
   "metadata": {},
   "outputs": [],
   "source": [
    "(U, alphas, _) = pkl.load(open(oj(out_dir, f'decomp_mot_energy.pkl'), 'rb'))"
   ]
  },
  {
   "cell_type": "markdown",
   "metadata": {},
   "source": [
    "# download data\n",
    "Download the raw data for the first time."
   ]
  },
  {
   "cell_type": "code",
   "execution_count": 2,
   "metadata": {},
   "outputs": [],
   "source": [
    "def download(datafile, username, password, out_dir):\n",
    "    '''\n",
    "    Params\n",
    "    ------\n",
    "    datafile\n",
    "    '''\n",
    "    \n",
    "    URL = 'https://portal.nersc.gov/project/crcns/download/index.php'\n",
    "    login_data = dict(\n",
    "        username=username,\n",
    "        password=password,\n",
    "        fn=datafile,\n",
    "        submit='Login' \n",
    "    )\n",
    "\n",
    "    with requests.Session() as s:\n",
    "        local_filename = oj(out_dir, login_data['fn'].split('/')[-1])\n",
    "        print(local_filename)\n",
    "        r = s.post(URL, data=login_data, stream=True)\n",
    "        with open(local_filename, 'wb') as f:\n",
    "            for chunk in tqdm(r.iter_content(chunk_size=1024)):\n",
    "                if chunk:\n",
    "                    f.write(chunk)\n",
    "                    \n",
    "uname = 'csinva'\n",
    "pwd = 'password'\n",
    "dset = 'vim-2'\n",
    "fnames = ['Stimuli.tar.gz', 'VoxelResponses_subject1.tar.gz', 'anatomy.zip', 'checksums.md5', 'filelist.txt', 'docs']\n",
    "for fname in fnames:\n",
    "    fname = oj(dset, fname)\n",
    "#     download(fname, uname, pwd, out_dir)"
   ]
  },
  {
   "cell_type": "code",
   "execution_count": 49,
   "metadata": {},
   "outputs": [
    {
     "name": "stdout",
     "output_type": "stream",
     "text": [
      "anatomy.zip    docs          Stimuli.mat     VoxelResponses_subject1.mat\n",
      "checksums.md5  filelist.txt  Stimuli.tar.gz  VoxelResponses_subject1.tar.gz\n"
     ]
    }
   ],
   "source": [
    "ls /scratch/users/vision/data/gallant/vim_2_crcns"
   ]
  },
  {
   "cell_type": "code",
   "execution_count": 23,
   "metadata": {},
   "outputs": [
    {
     "name": "stdout",
     "output_type": "stream",
     "text": [
      "6.9G\t/scratch/users/vision/data/gallant/vim_2_crcns\n"
     ]
    }
   ],
   "source": [
    "!du -sh /scratch/users/vision/data/gallant/vim_2_crcns\n",
    "# next extract the tars\n",
    "# next unzip the zips"
   ]
  },
  {
   "cell_type": "code",
   "execution_count": 27,
   "metadata": {},
   "outputs": [],
   "source": [
    "!ls /scratch/users/vision/data/gallant/vim_2_crcns/*.gz |xargs -n1 tar -xzf # extract the tar files"
   ]
  },
  {
   "cell_type": "markdown",
   "metadata": {},
   "source": [
    "# responses\n",
    "Look at the responses and save out their standard deviations."
   ]
  },
  {
   "cell_type": "code",
   "execution_count": 3,
   "metadata": {},
   "outputs": [],
   "source": [
    "f = tables.open_file(oj(out_dir, 'VoxelResponses_subject1.mat'))\n",
    "# f.listNodes # Show all variables available\n",
    "data = f.get_node('/rt')[:] # training responses: 7200 (timepoints) x 73728\n",
    "# plt.imshow(np.isnan(data))\n",
    "roi = f.get_node('/roi/v1lh')[:].flatten() # structure containing volume matrices (64x64x18) with indices corresponding to each roi in each hemisphere\n",
    "v1lh_idx = numpy.nonzero(roi==1)[0]\n",
    "v1lh_resp = data[v1lh_idx]"
   ]
  },
  {
   "cell_type": "code",
   "execution_count": 12,
   "metadata": {},
   "outputs": [
    {
     "data": {
      "text/plain": [
       "[<matplotlib.lines.Line2D at 0x7f0010575dd0>]"
      ]
     },
     "execution_count": 12,
     "metadata": {},
     "output_type": "execute_result"
    },
    {
     "data": {
      "image/png": "[encoded data removed]",
      "text/plain": [
       "<Figure size 432x288 with 1 Axes>"
      ]
     },
     "metadata": {
      "needs_background": "light"
     },
     "output_type": "display_data"
    }
   ],
   "source": [
    "plt.plot(v1lh_resp[100, :100])"
   ]
  },
  {
   "cell_type": "code",
   "execution_count": null,
   "metadata": {},
   "outputs": [],
   "source": [
    "plt.figure(dpi=300)\n",
    "plt.imshow(v1lh_resp[:200, :200])\n",
    "plt.axis('off')"
   ]
  },
  {
   "cell_type": "code",
   "execution_count": null,
   "metadata": {},
   "outputs": [],
   "source": [
    "f2 = tables.open_file(oj(out_dir, 'Stimuli.mat'))\n",
    "im = f2.get_node('/st')[100].transpose()\n",
    "plt.imshow(im)"
   ]
  },
  {
   "cell_type": "code",
   "execution_count": 134,
   "metadata": {},
   "outputs": [
    {
     "data": {
      "text/plain": [
       "['/roi/FFAlh', '(EArray(18,', '64,', '64),', 'zlib(3))', \"''\"]"
      ]
     },
     "execution_count": 134,
     "metadata": {},
     "output_type": "execute_result"
    }
   ],
   "source": [
    "str(xs[0]).split(' ')[0]"
   ]
  },
  {
   "cell_type": "code",
   "execution_count": 168,
   "metadata": {},
   "outputs": [
    {
     "name": "stdout",
     "output_type": "stream",
     "text": [
      "[\"/roi/FFAlh (EArray(18, 64, 64), zlib(3)) ''\", \"/roi/FFArh (EArray(18, 64, 64), zlib(3)) ''\", \"/roi/IPlh (EArray(18, 64, 64), zlib(3)) ''\", \"/roi/IPrh (EArray(18, 64, 64), zlib(3)) ''\", \"/roi/MTlh (EArray(18, 64, 64), zlib(3)) ''\", \"/roi/MTplh (EArray(18, 64, 64), zlib(3)) ''\", \"/roi/MTprh (EArray(18, 64, 64), zlib(3)) ''\", \"/roi/MTrh (EArray(18, 64, 64), zlib(3)) ''\", \"/roi/OBJlh (EArray(18, 64, 64), zlib(3)) ''\", \"/roi/OBJrh (EArray(18, 64, 64), zlib(3)) ''\", \"/roi/PPAlh (EArray(18, 64, 64), zlib(3)) ''\", \"/roi/PPArh (EArray(18, 64, 64), zlib(3)) ''\", \"/roi/RSCrh (EArray(18, 64, 64), zlib(3)) ''\", \"/roi/STSrh (EArray(18, 64, 64), zlib(3)) ''\", \"/roi/VOlh (EArray(18, 64, 64), zlib(3)) ''\", \"/roi/VOrh (EArray(18, 64, 64), zlib(3)) ''\", \"/roi/latocclh (EArray(18, 64, 64), zlib(3)) ''\", \"/roi/latoccrh (EArray(18, 64, 64), zlib(3)) ''\", \"/roi/v1lh (EArray(18, 64, 64), zlib(3)) ''\", \"/roi/v1rh (EArray(18, 64, 64), zlib(3)) ''\", \"/roi/v2lh (EArray(18, 64, 64), zlib(3)) ''\", \"/roi/v2rh (EArray(18, 64, 64), zlib(3)) ''\", \"/roi/v3alh (EArray(18, 64, 64), zlib(3)) ''\", \"/roi/v3arh (EArray(18, 64, 64), zlib(3)) ''\", \"/roi/v3blh (EArray(18, 64, 64), zlib(3)) ''\", \"/roi/v3brh (EArray(18, 64, 64), zlib(3)) ''\", \"/roi/v3lh (EArray(18, 64, 64), zlib(3)) ''\", \"/roi/v3rh (EArray(18, 64, 64), zlib(3)) ''\", \"/roi/v4lh (EArray(18, 64, 64), zlib(3)) ''\", \"/roi/v4rh (EArray(18, 64, 64), zlib(3)) ''\"]\n"
     ]
    }
   ],
   "source": [
    "f = tables.open_file(oj(out_dir, 'VoxelResponses_subject1.mat'))\n",
    "xs = []\n",
    "nums = []\n",
    "for x in f.get_node('/roi'):\n",
    "    xs.append(x)\n",
    "    nums.append(np.array(f.get_node(x)).nonzero()[0].sum())\n",
    "# sns.barplot(x=x, y=nums)\n",
    "print([str(x) for x in xs])"
   ]
  },
  {
   "cell_type": "code",
   "execution_count": 15,
   "metadata": {},
   "outputs": [
    {
     "name": "stderr",
     "output_type": "stream",
     "text": [
      "/accounts/projects/vision/.local/lib/python3.7/site-packages/numpy/lib/nanfunctions.py:1628: RuntimeWarning: Degrees of freedom <= 0 for slice.\n",
      "  keepdims=keepdims)\n",
      "/accounts/projects/vision/.local/lib/python3.7/site-packages/ipykernel_launcher.py:4: RuntimeWarning: Mean of empty slice\n",
      "  after removing the cwd from sys.path.\n"
     ]
    }
   ],
   "source": [
    "# calculate standard deviations\n",
    "f = tables.open_file(oj(out_dir, 'VoxelResponses_subject1.mat'))\n",
    "rva = np.array(f.get_node('/rva')[:]) # 73728 (voxels) x 10 (trials) x 540 (timepoints)\n",
    "sigmas = np.nanmean(np.nanstd(rva, axis=1), axis=-1)\n",
    "out_name = oj(out_dir, f'out_rva_sigmas.h5')\n",
    "save_h5(sigmas, out_name)"
   ]
  },
  {
   "cell_type": "code",
   "execution_count": null,
   "metadata": {},
   "outputs": [],
   "source": [
    "# normalize resps\n",
    "resps_name = oj(out_dir, 'VoxelResponses_subject1.mat')\n",
    "for dset in ['rt', 'rv']:\n",
    "    Y = np.array(tables.open_file(resps_name).get_node(f'/{dset}')[:]) # training responses: 73728 (voxels) x 7200 (timepoints)\n",
    "    Y -= np.nanmean(Y, axis=1).reshape(-1, 1)\n",
    "    Y /= (np.nanstd(Y, axis=1).reshape(-1, 1) + 1e-8)\n",
    "    save_h5(Y, oj(out_dir, f'{dset}_norm.h5'))"
   ]
  },
  {
   "cell_type": "code",
   "execution_count": 44,
   "metadata": {},
   "outputs": [],
   "source": [
    "Y = load_h5(oj(out_dir, 'rt_norm.h5') )\n",
    "Y_test = load_h5(oj(out_dir, 'rv_norm.h5') )\n",
    "Y_test_init = np.array(tables.open_file(resps_name).get_node(f'/rv')[:]) # training responses: 73728 (voxels) x 7200 (timepoints)"
   ]
  },
  {
   "cell_type": "code",
   "execution_count": null,
   "metadata": {},
   "outputs": [],
   "source": [
    "plt.plot(Y_test[150])\n",
    "plt.plot(Y_test_init[150] * 10)\n",
    "plt.show()"
   ]
  },
  {
   "cell_type": "code",
   "execution_count": null,
   "metadata": {},
   "outputs": [],
   "source": [
    "plt.figure(dpi=300)\n",
    "plt.imshow(Y_test_init[:300])\n",
    "plt.ylabel('neurons')\n",
    "plt.xlabel('timepoints')\n",
    "plt.tight_layout()\n",
    "plt.show()"
   ]
  },
  {
   "cell_type": "markdown",
   "metadata": {},
   "source": [
    "# stimuli\n",
    "Read out the stimuli, and the extracted gabor features from the matlab code."
   ]
  },
  {
   "cell_type": "code",
   "execution_count": 2,
   "metadata": {},
   "outputs": [],
   "source": [
    "SAMPLING_FREQ = 15\n",
    "DOWNSAMPLE = 2\n",
    "N_TRAIN = 7200\n",
    "N_TEST = 540\n",
    "OFFSET = SAMPLING_FREQ // 2\n",
    "NUM_FEATS = 1280"
   ]
  },
  {
   "cell_type": "code",
   "execution_count": 3,
   "metadata": {},
   "outputs": [
    {
     "data": {
      "text/plain": [
       "(8100, 3, 128, 128)"
      ]
     },
     "execution_count": 3,
     "metadata": {},
     "output_type": "execute_result"
    }
   ],
   "source": [
    "f2 = tables.open_file(oj(out_dir, 'Stimuli.mat'))\n",
    "f2.get_node(f'/sv').shape"
   ]
  },
  {
   "cell_type": "code",
   "execution_count": null,
   "metadata": {},
   "outputs": [],
   "source": [
    "# find the relevant stimuli\n",
    "for dset, N in zip(['sv'], [N_TEST]): # 'st', 'sv'\n",
    "    f2 = tables.open_file(oj(out_dir, 'Stimuli.mat'))\n",
    "    ims = np.zeros((N, 128 // DOWNSAMPLE, 128 // DOWNSAMPLE)).astype(np.int)\n",
    "    for i in tqdm(range(N)):\n",
    "        ims[i] = deepcopy(f2.get_node(f'/{dset}')[OFFSET + i * SAMPLING_FREQ].transpose())[::DOWNSAMPLE, ::DOWNSAMPLE].mean(axis=-1)\n",
    "\n",
    "    out_name = oj(out_dir, f'out_{dset}.h5')\n",
    "    save_h5(ims, out_name)"
   ]
  },
  {
   "cell_type": "code",
   "execution_count": null,
   "metadata": {},
   "outputs": [],
   "source": [
    "# convert stimuli to feature vectors\n",
    "for dset, N in zip(['sv'], [N_TEST]): # 'st', 'sv'\n",
    "    f = h5py.File(oj(out_dir, f'out_{dset}.h5'), 'r')\n",
    "    feats = np.zeros((N, NUM_FEATS))\n",
    "    for i in tqdm(range(N)):\n",
    "        feats[i] = gabor_feats.all_feats(deepcopy(f['data'][i]))\n",
    "\n",
    "    out_name = oj(out_dir, f'out_{dset}_feats.h5')\n",
    "    save_h5(feats, out_name)"
   ]
  },
  {
   "cell_type": "code",
   "execution_count": 37,
   "metadata": {},
   "outputs": [],
   "source": [
    "# normalize things\n",
    "for dset, N in zip(['st', 'sv'], [N_TRAIN, N_TEST]): # 'st', 'sv'\n",
    "    for suffix in ['', '_feats']:\n",
    "        feats_name = oj(out_dir, f'out_{dset}{suffix}.h5')\n",
    "        data = load_h5(feats_name)\n",
    "        data = data.reshape(data.shape[0], -1).astype(np.float32)\n",
    "        data -= data.mean(axis=1).reshape(-1, 1)\n",
    "        data /= (data.std(axis=1).reshape(-1, 1) + 1e-8)\n",
    "        out_name = oj(out_dir, f'out_{dset}{suffix}_norm.h5')\n",
    "        save_h5(data, out_name)"
   ]
  },
  {
   "cell_type": "markdown",
   "metadata": {},
   "source": [
    "**find SVD of features**"
   ]
  },
  {
   "cell_type": "code",
   "execution_count": 62,
   "metadata": {},
   "outputs": [
    {
     "name": "stdout",
     "output_type": "stream",
     "text": [
      "(7200, 6555)\n"
     ]
    }
   ],
   "source": [
    "# decompose the training data\n",
    "'''\n",
    "suffix = '' # _feats\n",
    "X = np.array(h5py.File(oj(out_dir, f'out_st{suffix}.h5'), 'r')['data'])\n",
    "X = X.reshape(X.shape[0], -1)\n",
    "U, s, Vh = npl.svd(X)\n",
    "save_pkl((U, s, Vh), oj(out_dir, f'decomp{suffix}.pkl'))\n",
    "'''\n",
    "\n",
    "# decompose matlab feats\n",
    "suffix = '' # _feats\n",
    "X = np.array(loadmat(oj(out_dir, 'mot_energy_feats_st.mat'))['S_fin'])\n",
    "U, s, Vh = npl.svd(X)\n",
    "save_pkl((U, s, Vh), oj(out_dir, f'decomp_mot_energy.pkl'))"
   ]
  },
  {
   "cell_type": "markdown",
   "metadata": {},
   "source": [
    "**find eigenvals / eigenvecs of features**"
   ]
  },
  {
   "cell_type": "code",
   "execution_count": 8,
   "metadata": {},
   "outputs": [],
   "source": [
    "# decompose matlab feats\n",
    "X = np.array(loadmat(oj(out_dir, 'mot_energy_feats_st.mat'))['S_fin'])\n",
    "eigenvals, eigenvecs = npl.eig(X.T @ X)\n",
    "# U, s, Vh = npl.svd(X)\n",
    "save_pkl((eigenvals, eigenvecs), oj(out_dir, f'eigenvals_eigenvecs_mot_energy.pkl'))"
   ]
  },
  {
   "cell_type": "markdown",
   "metadata": {},
   "source": [
    "**store mat inverses**"
   ]
  },
  {
   "cell_type": "code",
   "execution_count": null,
   "metadata": {},
   "outputs": [
    {
     "name": "stderr",
     "output_type": "stream",
     "text": [
      " 10%|█         | 2/20 [18:36<3:03:15, 610.89s/it]"
     ]
    }
   ],
   "source": [
    "reg_params = np.logspace(3, 6, 20).round().astype(int)\n",
    "X = np.array(loadmat(oj(out_dir, 'mot_energy_feats_st.mat'))['S_fin'])\n",
    "for reg_param in tqdm(reg_params):\n",
    "    inv = npl.pinv(X.T @ X + reg_param * np.eye(X.shape[1]))\n",
    "    save_pkl(inv, oj(out_dir, f'pinv_mot_energy_st_{reg_param}.pkl'))"
   ]
  },
  {
   "cell_type": "markdown",
   "metadata": {},
   "source": [
    "# features\n",
    "**load and look at features**"
   ]
  },
  {
   "cell_type": "code",
   "execution_count": 4,
   "metadata": {},
   "outputs": [],
   "source": [
    "X = np.array(loadmat(oj(out_dir, 'mot_energy_feats_st.mat'))['S_fin'])\n",
    "X_test = np.array(loadmat(oj(out_dir, 'mot_energy_feats_sv.mat'))['S_fin'])"
   ]
  },
  {
   "cell_type": "code",
   "execution_count": 6,
   "metadata": {},
   "outputs": [
    {
     "data": {
      "image/png": "[encoded data removed]",
      "text/plain": [
       "<Figure size 432x288 with 1 Axes>"
      ]
     },
     "metadata": {
      "needs_background": "light"
     },
     "output_type": "display_data"
    }
   ],
   "source": [
    "plt.plot(X_test[0:3].T, alpha=0.2)\n",
    "plt.show()"
   ]
  },
  {
   "cell_type": "code",
   "execution_count": 10,
   "metadata": {},
   "outputs": [
    {
     "data": {
      "image/png": "[encoded data removed]",
      "text/plain": [
       "<Figure size 432x288 with 1 Axes>"
      ]
     },
     "metadata": {
      "needs_background": "light"
     },
     "output_type": "display_data"
    }
   ],
   "source": [
    "(U, s, Vh) = pkl.load(open(oj(out_dir, f'decomp_mot_energy.pkl'), 'rb'))\n",
    "plt.loglog(sorted(s)[::-1])\n",
    "plt.xlabel('singular values')\n",
    "plt.show()"
   ]
  },
  {
   "cell_type": "code",
   "execution_count": 9,
   "metadata": {},
   "outputs": [
    {
     "data": {
      "image/png": "[encoded data removed]",
      "text/plain": [
       "<Figure size 432x288 with 1 Axes>"
      ]
     },
     "metadata": {
      "needs_background": "light"
     },
     "output_type": "display_data"
    }
   ],
   "source": [
    "(eigenvals, eigenvecs) = pkl.load(open(oj(out_dir, f'eigenvals_eigenvecs_mot_energy.pkl'), 'rb'))\n",
    "plt.loglog(sorted(eigenvals)[::-1])\n",
    "plt.xlabel('eigenvals')\n",
    "plt.show()"
   ]
  }
 ],
 "metadata": {
  "kernelspec": {
   "display_name": "Python 3",
   "language": "python",
   "name": "python3"
  },
  "language_info": {
   "codemirror_mode": {
    "name": "ipython",
    "version": 3
   },
   "file_extension": ".py",
   "mimetype": "text/x-python",
   "name": "python",
   "nbconvert_exporter": "python",
   "pygments_lexer": "ipython3",
   "version": "3.7.5"
  }
 },
 "nbformat": 4,
 "nbformat_minor": 4
}
