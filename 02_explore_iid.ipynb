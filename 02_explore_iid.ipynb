{
 "cells": [
  {
   "cell_type": "code",
   "execution_count": 1,
   "metadata": {},
   "outputs": [],
   "source": [
    "import os\n",
    "from os.path import join as oj\n",
    "import sys, time\n",
    "sys.path.insert(1, oj(sys.path[0], '..'))  # insert parent path\n",
    "import seaborn as sns\n",
    "from sklearn.model_selection import train_test_split\n",
    "import numpy as np\n",
    "import matplotlib.pyplot as plt\n",
    "import pmlb\n",
    "from tqdm import tqdm\n",
    "from copy import deepcopy\n",
    "import pickle as pkl\n",
    "import pandas as pd\n",
    "import data\n",
    "import numpy.linalg as npl\n",
    "from scipy.optimize import minimize\n",
    "\n",
    "%matplotlib inline\n",
    "%load_ext autoreload\n",
    "%autoreload 2\n",
    "\n",
    "save_dir = 'results'\n",
    "os.makedirs(save_dir, exist_ok=True)"
   ]
  },
  {
   "cell_type": "code",
   "execution_count": 4,
   "metadata": {},
   "outputs": [],
   "source": [
    "class p:\n",
    "    seed = 15\n",
    "    out_dir = '/scratch/users/vision/yu_dl/raaz.rsk/double_descent/test'\n",
    "    dset = 'gaussian' # gaussian\n",
    "    beta_type = 'gaussian' # one_hot\n",
    "    beta_norm = 1\n",
    "    iid = 'iid' # 'iid', 'clustered', 'spike', decay, mult_decay\n",
    "    dset_num = 1 # only matters for pmlb\n",
    "    dset_name = ''\n",
    "    reg_param = -1.0 # -1 use csv\n",
    "    num_features = 100\n",
    "    n_train_over_num_features = 0.75 # this and num_features sets n_train\n",
    "    n_test = 100\n",
    "    noise_std = 1e-1\n",
    "    noise_distr = 'gaussian' # gaussian, t, gaussian_scale_var, thresh\n",
    "    model_type = 'ridge' # mdl_orig, \n",
    "    cov_param = 2\n",
    "    \n",
    "def add_results(p, r, i):\n",
    "    # warning - this reseeds!\n",
    "    p.n_train = int(p.n_train_over_num_features * p.num_features)\n",
    "    X_train, y_train, X_test, y_test, betastar = \\\n",
    "        data.get_data_train_test(n_train=p.n_train, n_test=p.n_test, p=p.num_features, \n",
    "                            noise_std=p.noise_std, noise_distr=p.noise_distr, iid=p.iid, # parameters to be determined\n",
    "                            beta_type=p.beta_type, beta_norm=p.beta_norm, \n",
    "                            seed_for_training_data=p.seed, cov_param=p.cov_param)\n",
    "\n",
    "    eigenvals, eigenvecs = npl.eig(X_train.T @ X_train)\n",
    "    var = p.noise_std**2\n",
    "\n",
    "    def calc_thetahat(l):\n",
    "        inv = npl.pinv(X_train.T @ X_train + l * np.eye(p.num_features))\n",
    "        return inv @ X_train.T @ y_train\n",
    "\n",
    "    def mdl1_loss(l):\n",
    "        thetahat = calc_thetahat(l)\n",
    "        mse_norm = npl.norm(y_train - X_train @ thetahat)**2 / (2 * var)\n",
    "        theta_norm = npl.norm(thetahat)**2 / (2 * var)\n",
    "        eigensum = 0.5 * np.sum(np.log((eigenvals + l) / l))\n",
    "        return (mse_norm + theta_norm + eigensum) / y_train.size\n",
    "\n",
    "    opt_solved = minimize(mdl1_loss, x0=1e-10)\n",
    "    lambda_opt = opt_solved.x\n",
    "    thetahat = calc_thetahat(lambda_opt)\n",
    "    r['mse_norm'][i] = npl.norm(y_train - X_train @ thetahat)**2 / (2 * var)\n",
    "    r['theta_norm'][i] = npl.norm(thetahat)**2 / (2 * var)\n",
    "    r['eigensum'][i] = 0.5 * np.sum(np.log((eigenvals + lambda_opt) / lambda_opt))\n",
    "    r['mse_test'][i] = np.mean(np.square(y_test - X_test @ thetahat))\n",
    "    r['loss_val'][i] = opt_solved.fun\n",
    "    return r"
   ]
  },
  {
   "cell_type": "markdown",
   "metadata": {},
   "source": [
    "# vary p/n\n",
    "**looks at how MDL-COMP varies as d/n varies.**"
   ]
  },
  {
   "cell_type": "code",
   "execution_count": 5,
   "metadata": {},
   "outputs": [
    {
     "name": "stderr",
     "output_type": "stream",
     "text": [
      "0it [00:00, ?it/s]/accounts/projects/vision/.local/lib/python3.7/site-packages/ipykernel_launcher.py:47: ComplexWarning: Casting complex values to real discards the imaginary part\n",
      "16it [00:09,  1.32s/it]\n"
     ]
    }
   ],
   "source": [
    "n_train_over_num_features_list = np.array([1e-2, 5e-2, 1e-1, 0.5, 0.75, 0.9, 1,\n",
    "                                  1.2, 1.5, 2, 5, 7.5, 1e1, 2e1, 4e1, 1e2])\n",
    "n = n_train_over_num_features_list.size\n",
    "r = {\n",
    "    'mse_norm': np.zeros(n),\n",
    "    'theta_norm': np.zeros(n),\n",
    "    'eigensum': np.zeros(n),\n",
    "    'mse_test': np.zeros(n),\n",
    "    'loss_val': np.zeros(n)\n",
    "}\n",
    "\n",
    "for i, n_train_over_num_features in tqdm(enumerate(n_train_over_num_features_list)):\n",
    "    p.n_train_over_num_features = n_train_over_num_features\n",
    "    # p.n_train = int(n_train_over_num_features * p.num_features)\n",
    "    r = add_results(p, r, i)\n",
    "    \n",
    "# r['loss_val'] = r['mse_norm'] + r['theta_norm'] + r['eigensum']"
   ]
  },
  {
   "cell_type": "markdown",
   "metadata": {},
   "source": [
    "**fig complexity vs d/n**"
   ]
  },
  {
   "cell_type": "code",
   "execution_count": 9,
   "metadata": {},
   "outputs": [
    {
     "name": "stderr",
     "output_type": "stream",
     "text": [
      "/accounts/projects/vision/.local/lib/python3.7/site-packages/ipykernel_launcher.py:12: MatplotlibDeprecationWarning: Adding an axes using the same arguments as a previous axes currently reuses the earlier instance.  In a future version, a new instance will always be created and returned.  Meanwhile, this warning can be suppressed, and the future behavior ensured, by passing a unique label to each axes instance.\n",
      "  if sys.path[0] == '':\n"
     ]
    },
    {
     "data": {
      "image/png": "[encoded data removed]",
      "text/plain": [
       "<Figure size 288x216 with 1 Axes>"
      ]
     },
     "metadata": {
      "needs_background": "light"
     },
     "output_type": "display_data"
    }
   ],
   "source": [
    "r['n_train_over_num_features_list'] = n_train_over_num_features_list\n",
    "r['num_features'] = p.num_features\n",
    "\n",
    "plt.figure(figsize=(4, 3))\n",
    "# plt.axhline(df.mse_zero.values[0], lw=4, color='gray', alpha=0.4, label='trivial')\n",
    "plt.title('A', fontweight='bold', loc='left')\n",
    "#         plt.plot(curve.loss_val, curve.mse_test, **kwargs) #np.square(curve.bias) + curve['var'], **kwargs)\n",
    "plt.ylabel('MDL-COMP')\n",
    "plt.xlabel('$d / n$') #\\n(Number of features / Number of training points)')\n",
    "plt.plot(1/r['n_train_over_num_features_list'],\n",
    "         r['loss_val']) # / r['n_train_over_num_features_list'] / r['num_features'])\n",
    "ax = plt.subplot(111)\n",
    "ax.spines['right'].set_visible(False)\n",
    "ax.spines['top'].set_visible(False)\n",
    "plt.xscale('log')\n",
    "plt.yscale('log')\n",
    "plt.grid()\n",
    "plt.tight_layout()\n",
    "plt.savefig(oj(save_dir, 'fig_iid_comp.pdf'))"
   ]
  },
  {
   "cell_type": "markdown",
   "metadata": {},
   "source": [
    "**further break down the complexity**"
   ]
  },
  {
   "cell_type": "code",
   "execution_count": null,
   "metadata": {},
   "outputs": [],
   "source": [
    "def plot_p_n(r):\n",
    "    plt.figure(dpi=300)\n",
    "    def norm(x):\n",
    "        return x / n_train_over_num_features / p.num_features\n",
    "    plt.plot(1/n_train_over_num_features_list, norm(r['loss_val']), label='loss')\n",
    "    plt.plot(1/n_train_over_num_features_list, norm(r['mse_norm']), label='mse_norm')\n",
    "    plt.plot(1/n_train_over_num_features_list, norm(r['theta_norm']), label='theta_norm')\n",
    "    plt.plot(1/n_train_over_num_features_list, norm(r['eigensum']), label='eigensum')\n",
    "    plt.plot(1/n_train_over_num_features_list, norm(r['mse_test']), label='mse_test')\n",
    "    plt.xscale('log')\n",
    "    plt.yscale('log')\n",
    "    plt.xlabel('p/n')\n",
    "    plt.ylabel('all term divided by n_train')\n",
    "    plt.legend()\n",
    "    \n",
    "    \n",
    "plot_p_n(r)\n",
    "plt.show()"
   ]
  },
  {
   "cell_type": "markdown",
   "metadata": {},
   "source": [
    "# vary design\n",
    "**this section varies the design of the data matrix and sees how the complexity varies (not shown in the main paper)**"
   ]
  },
  {
   "cell_type": "code",
   "execution_count": null,
   "metadata": {},
   "outputs": [],
   "source": [
    "cov_param_list = np.logspace(start=0, stop=2, num=10) #[1e-2, 5e-2, 1e-1, 0.5, 0.75, 0.9, 1, 1.2, 1.5, 2, 5, 7.5, 1e1, 2e1, 4e1, 1e2])\n",
    "# cov_param_list = np.array([1e-2, 5e-2, 1e-1, 0.5, 0.75, 0.9, 1, 1.2, 1.5, 2, 5, 7.5, 1e1, 2e1, 4e1, 1e2])\n",
    "n = cov_param_list.size\n",
    "p.num_features = 100\n",
    "p.n_train_over_num_features = 0.75\n",
    "p.iid = 'lin_decay'\n",
    "r = {\n",
    "    'mse_norm': np.zeros(n),\n",
    "    'theta_norm': np.zeros(n),\n",
    "    'eigensum': np.zeros(n),\n",
    "    'mse_test': np.zeros(n),\n",
    "}\n",
    "\n",
    "i = 0\n",
    "for cov_param in tqdm(cov_param_list):\n",
    "    p.cov_param = cov_param\n",
    "    r = add_results(p, r, i)\n",
    "    i += 1\n",
    "r['loss_val'] = r['mse_norm'] + r['theta_norm'] + r['eigensum']"
   ]
  },
  {
   "cell_type": "code",
   "execution_count": null,
   "metadata": {},
   "outputs": [],
   "source": [
    "def plot_cov_param(r):\n",
    "    plt.figure(dpi=300)\n",
    "    R, C = 1, 2\n",
    "    def norm(x):\n",
    "        return x / p.n_train_over_num_features / p.num_features\n",
    "    \n",
    "    plt.subplot(R, C, 1)\n",
    "    \n",
    "#     for measure in ['loss_val']: ## measures:\n",
    "    # plt.loglog(1/n_train_over_num_features_list, norm(r[measure]), label=measure)\n",
    "    plt.loglog(norm(r['loss_val']), norm(r['mse_test']), '.')\n",
    "#     plt.xlim([50, 100])\n",
    "#         plt.yscale('log')\n",
    "#         plt.xscale('log')\n",
    "#     plt.yscale('log')\n",
    "    plt.xlabel('MDL-COMP')\n",
    "    plt.ylabel('Test MSE')\n",
    "    \n",
    "    plt.subplot(R, C, 2)    \n",
    "    measures = ['loss_val', 'mse_norm', 'theta_norm', 'eigensum', 'mse_test']\n",
    "\n",
    "    plt.loglog(cov_param_list, norm(r['loss_val']), label='MDL-COMP')\n",
    "    plt.loglog(cov_param_list, norm(r['mse_norm']), label='Train MSE Term')\n",
    "    plt.loglog(cov_param_list, norm(r['loss_val'] - r['mse_norm']), label='Normalization Terms')\n",
    "    # for measure in measures:\n",
    "        \n",
    "    plt.xlabel('Eigenvalue decay factor')\n",
    "    plt.ylabel('Measure')\n",
    "    plt.legend()\n",
    "    \n",
    "    plt.tight_layout()\n",
    "    \n",
    "\n",
    "\n",
    "plot_cov_param(r)\n",
    "plt.savefig(oj(save_dir, 'fig_design_vary.pdf'))\n",
    "plt.show()"
   ]
  }
 ],
 "metadata": {
  "anaconda-cloud": {},
  "kernelspec": {
   "display_name": "Python 3",
   "language": "python",
   "name": "python3"
  },
  "language_info": {
   "codemirror_mode": {
    "name": "ipython",
    "version": 3
   },
   "file_extension": ".py",
   "mimetype": "text/x-python",
   "name": "python",
   "nbconvert_exporter": "python",
   "pygments_lexer": "ipython3",
   "version": "3.7.5"
  }
 },
 "nbformat": 4,
 "nbformat_minor": 4
}
